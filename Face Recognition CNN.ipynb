{
 "cells": [
  {
   "cell_type": "code",
   "execution_count": null,
   "source": [],
   "outputs": [],
   "metadata": {}
  },
  {
   "cell_type": "code",
   "execution_count": null,
   "source": [],
   "outputs": [],
   "metadata": {}
  },
  {
   "cell_type": "markdown",
   "source": [
    "- Dataset : http://vis-www.cs.umass.edu/lfw/#download\n",
    "\n",
    "- Dataset Structure :\n",
    "\n",
    "```\n",
    "DATASET\\\n",
    "    label_name_A\\\n",
    "        label_name_A_001.jpg\n",
    "        label_name_A_002.jpg\n",
    "        label_name_A_003.jpg\n",
    "        .\n",
    "        .\n",
    "    label_name_B\\\n",
    "        label_name_B_001.jpg\n",
    "        label_name_B_002.jpg\n",
    "        label_name_B_003.jpg\n",
    "        .\n",
    "        .\n",
    "```"
   ],
   "metadata": {}
  },
  {
   "cell_type": "code",
   "execution_count": 26,
   "source": [
    "import os\r\n",
    "import glob\r\n",
    "from cv2 import cv2 \r\n",
    "import numpy as np\r\n",
    "import matplotlib.pyplot as plt\r\n",
    "\r\n",
    "# disable GPU\r\n",
    "os.environ['CUDA_VISIBLE_DEVICES'] = '-1'"
   ],
   "outputs": [],
   "metadata": {}
  },
  {
   "cell_type": "code",
   "execution_count": 27,
   "source": [
    "dataset_folder = \"DATASET15KAWAN\"\r\n",
    "class_name = []\r\n",
    "\r\n",
    "for folder in os.listdir(dataset_folder):\r\n",
    "    class_name.append(folder)\r\n",
    "    print(class_name)"
   ],
   "outputs": [
    {
     "output_type": "stream",
     "name": "stdout",
     "text": [
      "['Anton']\n",
      "['Anton', 'Ari']\n",
      "['Anton', 'Ari', 'Dewik']\n",
      "['Anton', 'Ari', 'Dewik', 'Era']\n",
      "['Anton', 'Ari', 'Dewik', 'Era', 'Yayak']\n"
     ]
    }
   ],
   "metadata": {}
  },
  {
   "cell_type": "code",
   "execution_count": 28,
   "source": [
    "path='/Tolik/KULIAH/Seminar/git/Face-Recognition-CNN-Keras-OpenCV-master'"
   ],
   "outputs": [],
   "metadata": {}
  },
  {
   "cell_type": "code",
   "execution_count": 29,
   "source": [
    "os.mkdir(path+'/DATASET15KAWANPRE/')"
   ],
   "outputs": [
    {
     "output_type": "error",
     "ename": "FileExistsError",
     "evalue": "[WinError 183] Cannot create a file when that file already exists: '/Tolik/KULIAH/Seminar/git/Face-Recognition-CNN-Keras-OpenCV-master/DATASET15KAWANPRE/'",
     "traceback": [
      "\u001b[1;31m---------------------------------------------------------------------------\u001b[0m",
      "\u001b[1;31mFileExistsError\u001b[0m                           Traceback (most recent call last)",
      "\u001b[1;32m<ipython-input-29-5fa8ca4f5e1a>\u001b[0m in \u001b[0;36m<module>\u001b[1;34m\u001b[0m\n\u001b[1;32m----> 1\u001b[1;33m \u001b[0mos\u001b[0m\u001b[1;33m.\u001b[0m\u001b[0mmkdir\u001b[0m\u001b[1;33m(\u001b[0m\u001b[0mpath\u001b[0m\u001b[1;33m+\u001b[0m\u001b[1;34m'/DATASET15KAWANPRE/'\u001b[0m\u001b[1;33m)\u001b[0m\u001b[1;33m\u001b[0m\u001b[1;33m\u001b[0m\u001b[0m\n\u001b[0m",
      "\u001b[1;31mFileExistsError\u001b[0m: [WinError 183] Cannot create a file when that file already exists: '/Tolik/KULIAH/Seminar/git/Face-Recognition-CNN-Keras-OpenCV-master/DATASET15KAWANPRE/'"
     ]
    }
   ],
   "metadata": {}
  },
  {
   "cell_type": "code",
   "execution_count": null,
   "source": [
    "faceCascade = cv2.CascadeClassifier('haarcascades/haarcascade_frontalface_default.xml')\r\n",
    "for folder in class_name:\r\n",
    "    folder_files = os.listdir(os.path.join(dataset_folder, folder))\r\n",
    "    len_sub_folder = len(folder_files) - 1\r\n",
    "    for i, filename in enumerate(folder_files):\r\n",
    "        img = cv2.imread(os.path.join(dataset_folder, folder, filename))\r\n",
    "        faces = faceCascade.detectMultiScale(img, 1.3, 5)\r\n",
    "        for (x, y, w, h) in faces:\r\n",
    "            croped = img[y:y+h, x:x+w]\r\n",
    "            resized = cv2.resize(croped, (64,64))\r\n",
    "        print(filename)\r\n",
    "        img_path = path+'/DATASET15KAWANPRE/'+filename.split('.')[0]+\".jpg\"\r\n",
    "        cv2.imwrite(img_path, resized)\r\n",
    "            "
   ],
   "outputs": [
    {
     "output_type": "stream",
     "name": "stdout",
     "text": [
      "Anton-02.JPG\n",
      "Anton-03.JPG\n",
      "Anton-04.JPG\n",
      "Anton-06.JPG\n",
      "Anton-08.JPG\n",
      "Anton-10.JPG\n",
      "Anton-11.JPG\n",
      "Anton-12.JPG\n",
      "Anton-14.JPG\n",
      "Anton-15.JPG\n",
      "Ari-01.JPG\n",
      "Ari-02.JPG\n",
      "Ari-03.JPG\n",
      "Ari-05.JPG\n",
      "Ari-07.JPG\n",
      "Ari-10.JPG\n",
      "Ari-12.JPG\n",
      "Ari-13.JPG\n",
      "Ari-14.JPG\n",
      "Ari-18.JPG\n",
      "Dewik-02.jpg\n",
      "Dewik-03.jpg\n",
      "Dewik-06.jpg\n",
      "Dewik-07.jpg\n",
      "Dewik-08.jpg\n",
      "Dewik-09.jpg\n",
      "Dewik-12.jpg\n",
      "Dewik-14.jpg\n",
      "Dewik-15.jpg\n",
      "Dewik-16.jpg\n",
      "Era-02.jpg\n",
      "Era-04.jpg\n",
      "Era-05.jpg\n",
      "Era-08.jpg\n",
      "Era-09.jpg\n",
      "Era-11.jpg\n",
      "Era-12.jpg\n",
      "Era-13.jpg\n",
      "Era-14.jpg\n",
      "Era-19.jpg\n",
      "Yayak-04.jpg\n",
      "Yayak-05.jpg\n",
      "Yayak-08.jpg\n",
      "Yayak-09.jpg\n",
      "Yayak-10.jpg\n",
      "Yayak-11.jpg\n",
      "Yayak-14.jpg\n",
      "Yayak-15.jpg\n",
      "Yayak-23.jpg\n",
      "Yayak-40.jpg\n"
     ]
    }
   ],
   "metadata": {}
  },
  {
   "cell_type": "code",
   "execution_count": null,
   "source": [
    "path='/Tolik/KULIAH/Seminar/git/Face-Recognition-CNN-Keras-OpenCV-master'\r\n",
    "image_path_names=[]\r\n",
    "person_names=set()\r\n",
    "for file_name in glob.glob(path+'/DATASET15KAWANPRE/*-*.jpg'):\r\n",
    "  image_path_names.append(file_name)\r\n",
    "  person_names.add(image_path_names[-1].split('/')[-1].split('\\\\')[-1].split('-')[0])\r\n"
   ],
   "outputs": [],
   "metadata": {}
  },
  {
   "cell_type": "code",
   "execution_count": null,
   "source": [
    "person_names"
   ],
   "outputs": [
    {
     "output_type": "execute_result",
     "data": {
      "text/plain": [
       "{'Anton', 'Ari', 'Dewik', 'Era', 'Yayak'}"
      ]
     },
     "metadata": {},
     "execution_count": 7
    }
   ],
   "metadata": {}
  },
  {
   "cell_type": "code",
   "execution_count": null,
   "source": [
    "os.mkdir(path+'/Datapre/')"
   ],
   "outputs": [],
   "metadata": {}
  },
  {
   "cell_type": "code",
   "execution_count": null,
   "source": [
    "for person in person_names:\r\n",
    "  os.mkdir(path+'/Datapre/'+person+'/')"
   ],
   "outputs": [],
   "metadata": {}
  },
  {
   "cell_type": "code",
   "execution_count": null,
   "source": [
    "from PIL import Image, ImageEnhance"
   ],
   "outputs": [],
   "metadata": {}
  },
  {
   "cell_type": "code",
   "execution_count": null,
   "source": [
    "for file_name in glob.glob(path+'/DATASET15KAWANPRE/*-*.jpg'):\r\n",
    "  image_path_names.append(file_name)\r\n",
    "  img = Image.open(file_name)\r\n",
    "  im = ImageEnhance.Brightness(img)\r\n",
    "  im1 = im.enhance(0.60)\r\n",
    "  im2 = im.enhance(0.70)\r\n",
    "  im3 = im.enhance(0.80)\r\n",
    "  im4 = im.enhance(1.20)\r\n",
    "  im5 = im.enhance(1.30)\r\n",
    "  im6 = im.enhance(1.40)\r\n",
    "  im1.save(path+'/Datapre/'+image_path_names[-1].split('/')[-1].split('\\\\')[-1].split('-')[0]+'/'+image_path_names[-1].split('/')[-1].split('\\\\')[-1].split('.')[0]+\"B1.jpg\")\r\n",
    "  im2.save(path+'/Datapre/'+image_path_names[-1].split('/')[-1].split('\\\\')[-1].split('-')[0]+'/'+image_path_names[-1].split('/')[-1].split('\\\\')[-1].split('.')[0]+\"B2.jpg\")\r\n",
    "  im3.save(path+'/Datapre/'+image_path_names[-1].split('/')[-1].split('\\\\')[-1].split('-')[0]+'/'+image_path_names[-1].split('/')[-1].split('\\\\')[-1].split('.')[0]+\"B3.jpg\")\r\n",
    "  im4.save(path+'/Datapre/'+image_path_names[-1].split('/')[-1].split('\\\\')[-1].split('-')[0]+'/'+image_path_names[-1].split('/')[-1].split('\\\\')[-1].split('.')[0]+\"B4.jpg\")\r\n",
    "  im5.save(path+'/Datapre/'+image_path_names[-1].split('/')[-1].split('\\\\')[-1].split('-')[0]+'/'+image_path_names[-1].split('/')[-1].split('\\\\')[-1].split('.')[0]+\"B5.jpg\")\r\n",
    "  im6.save(path+'/Datapre/'+image_path_names[-1].split('/')[-1].split('\\\\')[-1].split('-')[0]+'/'+image_path_names[-1].split('/')[-1].split('\\\\')[-1].split('.')[0]+\"B6.jpg\")\r\n",
    "  # plt.imsave(path+'/Datapre/'+image_path_names[-1].split('/')[-1].split('\\\\')[-1].split('-')[0]+'/'+file_name.split('/')[-1], im3)"
   ],
   "outputs": [],
   "metadata": {}
  },
  {
   "cell_type": "code",
   "execution_count": null,
   "source": [
    "for file_name in glob.glob(path+'/DATASET15KAWANPRE/*-*.jpg'):\r\n",
    "  image_path_names.append(file_name)\r\n",
    "  img = cv2.imread(file_name)\r\n",
    "  img1_save = cv2.GaussianBlur(img,(3,3),cv2.BORDER_DEFAULT)\r\n",
    "  img2_save = cv2.GaussianBlur(img,(5,5),cv2.BORDER_DEFAULT)\r\n",
    "  img3_save = cv2.GaussianBlur(img,(7,7),cv2.BORDER_DEFAULT)\r\n",
    "  img1_path = path+'/Datapre/'+image_path_names[-1].split('/')[-1].split('\\\\')[-1].split('-')[0]+'/'+image_path_names[-1].split('/')[-1].split('\\\\')[-1].split('.')[0]+\"C1.jpg\"\r\n",
    "  img2_path = path+'/Datapre/'+image_path_names[-1].split('/')[-1].split('\\\\')[-1].split('-')[0]+'/'+image_path_names[-1].split('/')[-1].split('\\\\')[-1].split('.')[0]+\"C2.jpg\"\r\n",
    "  img3_path = path+'/Datapre/'+image_path_names[-1].split('/')[-1].split('\\\\')[-1].split('-')[0]+'/'+image_path_names[-1].split('/')[-1].split('\\\\')[-1].split('.')[0]+\"C3.jpg\"\r\n",
    "  cv2.imwrite(img1_path, img1_save)\r\n",
    "  cv2.imwrite(img2_path, img2_save)\r\n",
    "  cv2.imwrite(img3_path, img3_save)"
   ],
   "outputs": [],
   "metadata": {}
  },
  {
   "cell_type": "code",
   "execution_count": null,
   "source": [
    "for file_name in glob.glob(path+'/DATASET15KAWANPRE/*-*.jpg'):\r\n",
    "  image_path_names.append(file_name)\r\n",
    "  img = Image.open(file_name)\r\n",
    "  img1_rotated = img.rotate(-40)\r\n",
    "  img2_rotated = img.rotate(-30)\r\n",
    "  img3_rotated = img.rotate(-20)\r\n",
    "  img4_rotated = img.rotate(20)\r\n",
    "  img5_rotated = img.rotate(30)\r\n",
    "  img6_rotated = img.rotate(40)\r\n",
    "  img1_rotated.save(path+'/Datapre/'+image_path_names[-1].split('/')[-1].split('\\\\')[-1].split('-')[0]+'/'+image_path_names[-1].split('/')[-1].split('\\\\')[-1].split('.')[0]+\"D1.jpg\")\r\n",
    "  img2_rotated.save(path+'/Datapre/'+image_path_names[-1].split('/')[-1].split('\\\\')[-1].split('-')[0]+'/'+image_path_names[-1].split('/')[-1].split('\\\\')[-1].split('.')[0]+\"D2.jpg\")\r\n",
    "  img3_rotated.save(path+'/Datapre/'+image_path_names[-1].split('/')[-1].split('\\\\')[-1].split('-')[0]+'/'+image_path_names[-1].split('/')[-1].split('\\\\')[-1].split('.')[0]+\"D3.jpg\")\r\n",
    "  img4_rotated.save(path+'/Datapre/'+image_path_names[-1].split('/')[-1].split('\\\\')[-1].split('-')[0]+'/'+image_path_names[-1].split('/')[-1].split('\\\\')[-1].split('.')[0]+\"D4.jpg\")\r\n",
    "  img5_rotated.save(path+'/Datapre/'+image_path_names[-1].split('/')[-1].split('\\\\')[-1].split('-')[0]+'/'+image_path_names[-1].split('/')[-1].split('\\\\')[-1].split('.')[0]+\"D5.jpg\")\r\n",
    "  img6_rotated.save(path+'/Datapre/'+image_path_names[-1].split('/')[-1].split('\\\\')[-1].split('-')[0]+'/'+image_path_names[-1].split('/')[-1].split('\\\\')[-1].split('.')[0]+\"D6.jpg\")"
   ],
   "outputs": [],
   "metadata": {}
  },
  {
   "cell_type": "code",
   "execution_count": null,
   "source": [
    "dataset = \"Datapre\"\r\n",
    "class_name = []\r\n",
    "\r\n",
    "for folder in os.listdir(dataset):\r\n",
    "    class_name.append(folder)\r\n",
    "    print(class_name)"
   ],
   "outputs": [
    {
     "output_type": "stream",
     "name": "stdout",
     "text": [
      "['Anton']\n",
      "['Anton', 'Ari']\n",
      "['Anton', 'Ari', 'Dewik']\n",
      "['Anton', 'Ari', 'Dewik', 'Era']\n",
      "['Anton', 'Ari', 'Dewik', 'Era', 'Yayak']\n"
     ]
    }
   ],
   "metadata": {}
  },
  {
   "cell_type": "code",
   "execution_count": null,
   "source": [
    "imgs = []\r\n",
    "labels = []\r\n",
    "for folder in class_name:\r\n",
    "    folder_files = os.listdir(os.path.join(dataset, folder))\r\n",
    "    for i, filename in enumerate(folder_files):\r\n",
    "        img = cv2.imread(os.path.join(dataset, folder, filename))\r\n",
    "        gray = cv2.cvtColor(img, cv2.COLOR_BGR2GRAY)\r\n",
    "        imgs.append(gray)\r\n",
    "        labels.append(folder)"
   ],
   "outputs": [],
   "metadata": {}
  },
  {
   "cell_type": "code",
   "execution_count": null,
   "source": [
    "cv2.imshow(\"preview sample image\", imgs[0])\r\n",
    "\r\n",
    "cv2.waitKey(0)\r\n",
    "cv2.destroyAllWindows()"
   ],
   "outputs": [],
   "metadata": {}
  },
  {
   "cell_type": "markdown",
   "source": [
    "### Balancing dataset"
   ],
   "metadata": {}
  },
  {
   "cell_type": "markdown",
   "source": [
    "### Prepare Dataset"
   ],
   "metadata": {}
  },
  {
   "cell_type": "code",
   "execution_count": null,
   "source": [
    "from sklearn.preprocessing import LabelEncoder\r\n",
    "from keras.utils.np_utils import to_categorical\r\n",
    "\r\n",
    "from sklearn.model_selection import train_test_split\r\n",
    "\r\n",
    "from sklearn.metrics import classification_report\r\n",
    "from sklearn.metrics import confusion_matrix"
   ],
   "outputs": [
    {
     "output_type": "stream",
     "name": "stdout",
     "text": [
      "INFO:tensorflow:Enabling eager execution\n",
      "INFO:tensorflow:Enabling v2 tensorshape\n",
      "INFO:tensorflow:Enabling resource variables\n",
      "INFO:tensorflow:Enabling tensor equality\n",
      "INFO:tensorflow:Enabling control flow v2\n"
     ]
    }
   ],
   "metadata": {}
  },
  {
   "cell_type": "code",
   "execution_count": null,
   "source": [
    "X = np.array(imgs)"
   ],
   "outputs": [],
   "metadata": {}
  },
  {
   "cell_type": "markdown",
   "source": [
    "#### Label encoding & categoricalize output vector"
   ],
   "metadata": {}
  },
  {
   "cell_type": "code",
   "execution_count": null,
   "source": [
    "le = LabelEncoder()\r\n",
    "le.fit(labels)\r\n",
    "le.classes_"
   ],
   "outputs": [
    {
     "output_type": "execute_result",
     "data": {
      "text/plain": [
       "array(['Anton', 'Ari', 'Dewik', 'Era', 'Yayak'], dtype='<U5')"
      ]
     },
     "metadata": {},
     "execution_count": 7
    }
   ],
   "metadata": {}
  },
  {
   "cell_type": "code",
   "execution_count": null,
   "source": [
    "class_name"
   ],
   "outputs": [
    {
     "output_type": "execute_result",
     "data": {
      "text/plain": [
       "['Anton', 'Ari', 'Dewik', 'Era', 'Yayak']"
      ]
     },
     "metadata": {},
     "execution_count": 8
    }
   ],
   "metadata": {}
  },
  {
   "cell_type": "code",
   "execution_count": null,
   "source": [
    "Y = le.transform(labels)\r\n",
    "Y = to_categorical(Y)"
   ],
   "outputs": [],
   "metadata": {}
  },
  {
   "cell_type": "markdown",
   "source": [
    "#### Split dataset"
   ],
   "metadata": {}
  },
  {
   "cell_type": "code",
   "execution_count": null,
   "source": [
    "X_train, X_test, y_train, y_test = \\\r\n",
    "                    train_test_split(X, \r\n",
    "                                     Y, \r\n",
    "                                     test_size=0.20,\r\n",
    "                                     random_state=4)\r\n",
    "  \r\n",
    "print(\"Dimensi data :\\n\")\r\n",
    "print(\"X train \\t X test \\t Y train \\t Y test\")  \r\n",
    "print(\"%s \\t \\t %s \\t\\t %s \\t %s\" % (X_train.shape, X_test.shape, y_train.shape, y_test.shape))"
   ],
   "outputs": [
    {
     "output_type": "stream",
     "name": "stdout",
     "text": [
      "Dimensi data :\n",
      "\n",
      "X train \t X test \t Y train \t Y test\n",
      "(600, 64, 64) \t \t (150, 64, 64) \t\t (600, 5) \t (150, 5)\n"
     ]
    }
   ],
   "metadata": {}
  },
  {
   "cell_type": "markdown",
   "source": [
    "### Build CNN Model"
   ],
   "metadata": {}
  },
  {
   "cell_type": "code",
   "execution_count": null,
   "source": [
    "import keras\r\n",
    "from keras import backend as K\r\n",
    "from keras.models import Sequential\r\n",
    "from keras.optimizers import Adam\r\n",
    "from keras.layers import Dense, Conv2D, MaxPool2D, GlobalMaxPool2D, Dropout, Flatten, Activation\r\n",
    "from keras.callbacks import EarlyStopping, ModelCheckpoint"
   ],
   "outputs": [],
   "metadata": {}
  },
  {
   "cell_type": "code",
   "execution_count": null,
   "source": [
    "def resize_data(X_train, X_test):\r\n",
    "    #\r\n",
    "    # 4+D tensor with shape: batch_shape + (channels, rows, cols) if data_format='channels_first' or \r\n",
    "    # 4+D tensor with shape: batch_shape + (rows, cols, channels) if data_format='channels_last'.\r\n",
    "    #\r\n",
    "    print(K.image_data_format())\r\n",
    "    if K.image_data_format() == 'channels_first':\r\n",
    "        X_train = X_train.reshape(X_train.shape[0], 1, X_train.shape[1], X_train.shape[2])\r\n",
    "        X_test = X_test.reshape(X_test.shape[0], 1, X_test.shape[1], X_test.shape[2])\r\n",
    "        input_shape = (1, X_train.shape[1], X_train.shape[2])\r\n",
    "    else:\r\n",
    "        X_train = X_train.reshape(X_train.shape[0], X_train.shape[1], X_train.shape[2], 1)\r\n",
    "        X_test = X_test.reshape(X_test.shape[0], X_test.shape[1], X_test.shape[2], 1)\r\n",
    "        # print(X_train.shape)\r\n",
    "        input_shape = (X_train.shape[1], X_train.shape[2], 1)\r\n",
    "    return X_train, X_test, input_shape\r\n"
   ],
   "outputs": [],
   "metadata": {}
  },
  {
   "cell_type": "code",
   "execution_count": null,
   "source": [
    "def precision(y_true, y_pred):\r\n",
    "    true_positives = K.sum(K.round(K.clip(y_true * y_pred, 0, 1)))\r\n",
    "    possible_positives = K.sum(K.round(K.clip(y_true, 0, 1)))\r\n",
    "    recall = true_positives / (possible_positives + K.epsilon())\r\n",
    "    return recall\r\n",
    "\r\n",
    "def recall(y_true, y_pred):\r\n",
    "    true_positives = K.sum(K.round(K.clip(y_true * y_pred, 0, 1)))\r\n",
    "    predicted_positives = K.sum(K.round(K.clip(y_pred, 0, 1)))\r\n",
    "    precision = true_positives / (predicted_positives + K.epsilon())\r\n",
    "    return precision"
   ],
   "outputs": [],
   "metadata": {}
  },
  {
   "cell_type": "code",
   "execution_count": null,
   "source": [
    "# def cnn_model(image_shape, output_size):\r\n",
    "#     opt = Adam() #learning_rate=0.001\r\n",
    "    \r\n",
    "#     model = Sequential()\r\n",
    "    \r\n",
    "#     model.add(Conv2D(64,\r\n",
    "#                     (3,3),\r\n",
    "#                     padding=\"valid\",\r\n",
    "#                     activation=\"relu\",\r\n",
    "#                     input_shape=image_shape))\r\n",
    "#     model.add(Conv2D(64,\r\n",
    "#                     (3,3),\r\n",
    "#                     padding=\"valid\",\r\n",
    "#                     activation=\"relu\"))\r\n",
    "#     model.add(MaxPool2D(pool_size=(2, 2)))\r\n",
    "              \r\n",
    "#     model.add(Dropout(0.2))\r\n",
    "    \r\n",
    "#     model.add(Conv2D(128,\r\n",
    "#                     (3,3),\r\n",
    "#                     padding=\"valid\",\r\n",
    "#                     activation=\"relu\"))\r\n",
    "#     model.add(Conv2D(128,\r\n",
    "#                     (3,3),\r\n",
    "#                     padding=\"valid\",\r\n",
    "#                     activation=\"relu\"))\r\n",
    "#     model.add(MaxPool2D(pool_size=(2, 2)))\r\n",
    "\r\n",
    "#     model.add(Flatten())\r\n",
    "    \r\n",
    "#     model.add(Dropout(0.2))\r\n",
    "#     model.add(Dense(512, activation=\"relu\"))\r\n",
    "#     model.add(Dropout(0.2))\r\n",
    "#     model.add(Dense(256, activation=\"relu\"))\r\n",
    "#     model.add(Dense(output_size))\r\n",
    "#     model.add(Activation(\"softmax\"))\r\n",
    "    \r\n",
    "#     model.summary() \r\n",
    "    \r\n",
    "#     model.compile(optimizer=opt, \r\n",
    "#                   loss='categorical_crossentropy',\r\n",
    "#                   metrics = ['accuracy', precision, recall])\r\n",
    "\r\n",
    "#     return model"
   ],
   "outputs": [],
   "metadata": {}
  },
  {
   "cell_type": "code",
   "execution_count": null,
   "source": [
    "def cnn_model(image_shape, output_size):\r\n",
    "    opt = Adam() #learning_rate=0.001\r\n",
    "    \r\n",
    "    model = Sequential()\r\n",
    "    \r\n",
    "    model.add(Conv2D(32,\r\n",
    "                    (3,3),\r\n",
    "                    padding=\"same\",\r\n",
    "                    activation=\"relu\",\r\n",
    "                    input_shape=image_shape))\r\n",
    "    model.add(MaxPool2D(pool_size=(2, 2)))\r\n",
    "    \r\n",
    "    model.add(Conv2D(64,\r\n",
    "                    (3,3),\r\n",
    "                    padding=\"same\",\r\n",
    "                    activation=\"relu\"))\r\n",
    "    model.add(MaxPool2D(pool_size=(2, 2)))\r\n",
    "\r\n",
    "    model.add(Flatten())\r\n",
    "    \r\n",
    "    model.add(Dropout(0.2))\r\n",
    "    model.add(Dense(256, activation=\"relu\"))\r\n",
    "    model.add(Dense(output_size))\r\n",
    "    model.add(Activation(\"softmax\"))\r\n",
    "    \r\n",
    "    model.summary() \r\n",
    "    \r\n",
    "    model.compile(optimizer=opt, \r\n",
    "                  loss='categorical_crossentropy',\r\n",
    "                  metrics = ['accuracy', precision, recall])\r\n",
    "\r\n",
    "    return model"
   ],
   "outputs": [],
   "metadata": {}
  },
  {
   "cell_type": "code",
   "execution_count": null,
   "source": [
    "X_train, X_test, input_shape = resize_data(X_train, X_test)\r\n",
    "EPOCHS = 10\r\n",
    "BATCH_SIZE = 64\r\n",
    "\r\n",
    "model = cnn_model(input_shape, len(class_name))\r\n",
    "\r\n",
    "\r\n",
    "callbacks = [EarlyStopping(monitor='val_loss', patience=10),\r\n",
    "             ModelCheckpoint(filepath='best_model.h5', monitor='val_loss', save_best_only=True, verbose=1)]\r\n",
    "    \r\n",
    "history = model.fit(X_train, \r\n",
    "                      y_train,\r\n",
    "                      epochs=EPOCHS,\r\n",
    "                      batch_size=BATCH_SIZE,\r\n",
    "                      callbacks=callbacks,\r\n",
    "                      validation_data=(X_test,y_test))\r\n",
    "\r\n",
    "model.load_weights('best_model.h5')"
   ],
   "outputs": [
    {
     "output_type": "stream",
     "name": "stdout",
     "text": [
      "channels_last\n",
      "Model: \"sequential\"\n",
      "_________________________________________________________________\n",
      "Layer (type)                 Output Shape              Param #   \n",
      "=================================================================\n",
      "conv2d (Conv2D)              (None, 64, 64, 32)        320       \n",
      "_________________________________________________________________\n",
      "max_pooling2d (MaxPooling2D) (None, 32, 32, 32)        0         \n",
      "_________________________________________________________________\n",
      "conv2d_1 (Conv2D)            (None, 32, 32, 64)        18496     \n",
      "_________________________________________________________________\n",
      "max_pooling2d_1 (MaxPooling2 (None, 16, 16, 64)        0         \n",
      "_________________________________________________________________\n",
      "flatten (Flatten)            (None, 16384)             0         \n",
      "_________________________________________________________________\n",
      "dropout (Dropout)            (None, 16384)             0         \n",
      "_________________________________________________________________\n",
      "dense (Dense)                (None, 256)               4194560   \n",
      "_________________________________________________________________\n",
      "dense_1 (Dense)              (None, 5)                 1285      \n",
      "_________________________________________________________________\n",
      "activation (Activation)      (None, 5)                 0         \n",
      "=================================================================\n",
      "Total params: 4,214,661\n",
      "Trainable params: 4,214,661\n",
      "Non-trainable params: 0\n",
      "_________________________________________________________________\n",
      "Epoch 1/10\n",
      "WARNING:tensorflow:AutoGraph could not transform <bound method Dense.call of <keras.layers.core.Dense object at 0x000001E7AD764E80>> and will run it as-is.\n",
      "Please report this to the TensorFlow team. When filing the bug, set the verbosity to 10 (on Linux, `export AUTOGRAPH_VERBOSITY=10`) and attach the full output.\n",
      "Cause: invalid syntax (tmpblagmmux.py, line 48)\n",
      "To silence this warning, decorate the function with @tf.autograph.experimental.do_not_convert\n",
      "WARNING: AutoGraph could not transform <bound method Dense.call of <keras.layers.core.Dense object at 0x000001E7AD764E80>> and will run it as-is.\n",
      "Please report this to the TensorFlow team. When filing the bug, set the verbosity to 10 (on Linux, `export AUTOGRAPH_VERBOSITY=10`) and attach the full output.\n",
      "Cause: invalid syntax (tmpblagmmux.py, line 48)\n",
      "To silence this warning, decorate the function with @tf.autograph.experimental.do_not_convert\n",
      "10/10 [==============================] - 22s 412ms/step - loss: 160.1566 - accuracy: 0.2431 - precision: 0.2427 - recall: 0.2438 - val_loss: 9.8108 - val_accuracy: 0.2067 - val_precision: 0.2112 - val_recall: 0.2112\n",
      "\n",
      "Epoch 00001: val_loss improved from inf to 9.81078, saving model to best_model.h5\n",
      "Epoch 2/10\n",
      "10/10 [==============================] - 2s 238ms/step - loss: 3.9314 - accuracy: 0.2738 - precision: 0.1703 - recall: 0.3523 - val_loss: 1.3739 - val_accuracy: 0.4867 - val_precision: 0.0777 - val_recall: 0.9524\n",
      "\n",
      "Epoch 00002: val_loss improved from 9.81078 to 1.37387, saving model to best_model.h5\n",
      "Epoch 3/10\n",
      "10/10 [==============================] - 2s 237ms/step - loss: 1.1504 - accuracy: 0.6110 - precision: 0.2439 - recall: 0.8886 - val_loss: 0.6732 - val_accuracy: 0.7933 - val_precision: 0.5975 - val_recall: 0.9739\n",
      "\n",
      "Epoch 00003: val_loss improved from 1.37387 to 0.67320, saving model to best_model.h5\n",
      "Epoch 4/10\n",
      "10/10 [==============================] - 3s 266ms/step - loss: 0.5768 - accuracy: 0.8089 - precision: 0.6725 - recall: 0.9339 - val_loss: 0.3646 - val_accuracy: 0.8667 - val_precision: 0.8144 - val_recall: 0.8937\n",
      "\n",
      "Epoch 00004: val_loss improved from 0.67320 to 0.36458, saving model to best_model.h5\n",
      "Epoch 5/10\n",
      "10/10 [==============================] - 2s 232ms/step - loss: 0.3250 - accuracy: 0.8795 - precision: 0.8305 - recall: 0.9255 - val_loss: 0.1547 - val_accuracy: 0.9600 - val_precision: 0.9020 - val_recall: 0.9886\n",
      "\n",
      "Epoch 00005: val_loss improved from 0.36458 to 0.15474, saving model to best_model.h5\n",
      "Epoch 6/10\n",
      "10/10 [==============================] - 2s 237ms/step - loss: 0.1255 - accuracy: 0.9671 - precision: 0.9588 - recall: 0.9697 - val_loss: 0.0889 - val_accuracy: 0.9667 - val_precision: 0.9640 - val_recall: 0.9792\n",
      "\n",
      "Epoch 00006: val_loss improved from 0.15474 to 0.08887, saving model to best_model.h5\n",
      "Epoch 7/10\n",
      "10/10 [==============================] - 3s 267ms/step - loss: 0.0893 - accuracy: 0.9664 - precision: 0.9596 - recall: 0.9723 - val_loss: 0.1228 - val_accuracy: 0.9600 - val_precision: 0.9437 - val_recall: 0.9631\n",
      "\n",
      "Epoch 00007: val_loss did not improve from 0.08887\n",
      "Epoch 8/10\n",
      "10/10 [==============================] - 3s 272ms/step - loss: 0.0471 - accuracy: 0.9884 - precision: 0.9852 - recall: 0.9928 - val_loss: 0.0914 - val_accuracy: 0.9667 - val_precision: 0.9541 - val_recall: 0.9685\n",
      "\n",
      "Epoch 00008: val_loss did not improve from 0.08887\n",
      "Epoch 9/10\n",
      "10/10 [==============================] - 3s 260ms/step - loss: 0.0402 - accuracy: 0.9902 - precision: 0.9850 - recall: 0.9902 - val_loss: 0.0854 - val_accuracy: 0.9733 - val_precision: 0.9692 - val_recall: 0.9692\n",
      "\n",
      "Epoch 00009: val_loss improved from 0.08887 to 0.08536, saving model to best_model.h5\n",
      "Epoch 10/10\n",
      "10/10 [==============================] - 2s 234ms/step - loss: 0.0150 - accuracy: 0.9960 - precision: 0.9961 - recall: 0.9961 - val_loss: 0.0531 - val_accuracy: 0.9800 - val_precision: 0.9744 - val_recall: 0.9744\n",
      "\n",
      "Epoch 00010: val_loss improved from 0.08536 to 0.05315, saving model to best_model.h5\n"
     ]
    }
   ],
   "metadata": {
    "tags": []
   }
  },
  {
   "cell_type": "code",
   "execution_count": null,
   "source": [
    "def evaluate_model(history):\r\n",
    "    names = [['accuracy', 'val_accuracy'], \r\n",
    "             ['loss', 'val_loss'], \r\n",
    "             ['precision', 'val_precision'], \r\n",
    "             ['recall', 'val_recall']]\r\n",
    "    for name in names :\r\n",
    "        fig1, ax_acc = plt.subplots()\r\n",
    "        plt.plot(history.history[name[0]])\r\n",
    "        plt.plot(history.history[name[1]])\r\n",
    "        plt.xlabel('Epoch')\r\n",
    "        plt.ylabel(name[0])\r\n",
    "        plt.title('Model - ' + name[0])\r\n",
    "        plt.legend(['Training', 'Validation'], loc='lower right')\r\n",
    "        plt.show()\r\n",
    "        \r\n",
    "evaluate_model(history)"
   ],
   "outputs": [
    {
     "output_type": "display_data",
     "data": {
      "image/png": "[encoded data removed]",
      "text/plain": [
       "<Figure size 432x288 with 1 Axes>"
      ]
     },
     "metadata": {
      "needs_background": "light"
     }
    },
    {
     "output_type": "display_data",
     "data": {
      "image/png": "[encoded data removed]",
      "text/plain": [
       "<Figure size 432x288 with 1 Axes>"
      ]
     },
     "metadata": {
      "needs_background": "light"
     }
    },
    {
     "output_type": "display_data",
     "data": {
      "image/png": "[encoded data removed]",
      "text/plain": [
       "<Figure size 432x288 with 1 Axes>"
      ]
     },
     "metadata": {
      "needs_background": "light"
     }
    },
    {
     "output_type": "display_data",
     "data": {
      "image/png": "[encoded data removed]",
      "text/plain": [
       "<Figure size 432x288 with 1 Axes>"
      ]
     },
     "metadata": {
      "needs_background": "light"
     }
    }
   ],
   "metadata": {}
  },
  {
   "cell_type": "code",
   "execution_count": null,
   "source": [],
   "outputs": [],
   "metadata": {}
  },
  {
   "cell_type": "code",
   "execution_count": null,
   "source": [
    "import itertools\r\n",
    "def plot_confusion_matrix(cm, classes,\r\n",
    "                          normalize=False,\r\n",
    "                          title='Confusion matrix',\r\n",
    "                          cmap=plt.cm.Blues):\r\n",
    "    if normalize:\r\n",
    "        cm = cm.astype('float') / cm.sum(axis=1)[:, np.newaxis]\r\n",
    "\r\n",
    "    plt.figure(figsize=(10, 10))\r\n",
    "    \r\n",
    "    plt.imshow(cm, interpolation='nearest', cmap=cmap)\r\n",
    "    plt.title(title)\r\n",
    "    plt.colorbar()\r\n",
    "    \r\n",
    "    tick_marks = np.arange(len(classes))\r\n",
    "    plt.xticks(tick_marks, classes, rotation=45)\r\n",
    "    plt.yticks(tick_marks, classes)\r\n",
    "\r\n",
    "    fmt = '.2f' if normalize else 'd'\r\n",
    "    thresh = cm.max() / 2.\r\n",
    "    for i, j in itertools.product(range(cm.shape[0]), range(cm.shape[1])):\r\n",
    "        plt.text(j, i, format(cm[i, j], fmt),\r\n",
    "                 horizontalalignment=\"center\",\r\n",
    "                 color=\"white\" if cm[i, j] > thresh else \"black\")\r\n",
    "\r\n",
    "    plt.tight_layout()\r\n",
    "    plt.ylabel('True label')\r\n",
    "    plt.xlabel('Predicted label')\r\n",
    "    plt.show()"
   ],
   "outputs": [],
   "metadata": {}
  },
  {
   "cell_type": "code",
   "execution_count": null,
   "source": [],
   "outputs": [],
   "metadata": {}
  },
  {
   "cell_type": "code",
   "execution_count": null,
   "source": [
    "# predict test data\r\n",
    "y_pred=model.predict(X_test)\r\n",
    "\r\n",
    "\r\n",
    "# Compute confusion matrix\r\n",
    "cnf_matrix = confusion_matrix(y_test.argmax(axis=1), y_pred.argmax(axis=1))\r\n",
    "np.set_printoptions(precision=2)\r\n",
    "\r\n",
    "\r\n",
    "# Plot non-normalized confusion matrix\r\n",
    "plot_confusion_matrix(cnf_matrix, \r\n",
    "                      classes=class_name,\r\n",
    "                      normalize=False,\r\n",
    "                      title='Confusion matrix, with normalization')\r\n"
   ],
   "outputs": [
    {
     "output_type": "display_data",
     "data": {
      "image/png": "[encoded data removed]",
      "text/plain": [
       "<Figure size 720x720 with 2 Axes>"
      ]
     },
     "metadata": {
      "needs_background": "light"
     }
    }
   ],
   "metadata": {}
  },
  {
   "cell_type": "code",
   "execution_count": null,
   "source": [
    "print(classification_report(y_test.argmax(axis=1), \r\n",
    "                            y_pred.argmax(axis=1), \r\n",
    "                            target_names=class_name))"
   ],
   "outputs": [
    {
     "output_type": "stream",
     "name": "stdout",
     "text": [
      "              precision    recall  f1-score   support\n",
      "\n",
      "       Anton       1.00      0.97      0.98        29\n",
      "         Ari       0.95      1.00      0.97        36\n",
      "       Dewik       1.00      0.97      0.98        29\n",
      "         Era       1.00      0.96      0.98        25\n",
      "       Yayak       0.97      1.00      0.98        31\n",
      "\n",
      "    accuracy                           0.98       150\n",
      "   macro avg       0.98      0.98      0.98       150\n",
      "weighted avg       0.98      0.98      0.98       150\n",
      "\n"
     ]
    }
   ],
   "metadata": {}
  },
  {
   "cell_type": "markdown",
   "source": [
    "Tolik Punya"
   ],
   "metadata": {}
  },
  {
   "cell_type": "code",
   "execution_count": null,
   "source": [
    "data_slice = [70, 195, 78, 172] \r\n",
    "# [ymin, ymax, xmin, xmax]\r\n",
    "# to extract the `interesting` part of the image files \r\n",
    "# and avoid use statistical correlation from the background \r\n",
    "\r\n",
    "# resize ratio to reduce sample dimension\r\n",
    "resize_ratio = 2.5\r\n",
    "\r\n",
    "h = int((data_slice[1] - data_slice[0])/resize_ratio) #ymax - ymin slice, Height of image in float\r\n",
    "w = int((data_slice[3] - data_slice[2])/resize_ratio) #xmax - xmin slice, Width of image in float \r\n",
    "print(\"Image dimension after resize (h,w) :\", h, w)"
   ],
   "outputs": [
    {
     "output_type": "stream",
     "name": "stdout",
     "text": [
      "Image dimension after resize (h,w) : 50 37\n"
     ]
    }
   ],
   "metadata": {}
  },
  {
   "cell_type": "code",
   "execution_count": null,
   "source": [
    "dataujipath='/Tolik/KULIAH/Seminar/git/Face-Recognition-CNN-Keras-OpenCV-master/DATAUJI1'"
   ],
   "outputs": [],
   "metadata": {}
  },
  {
   "cell_type": "code",
   "execution_count": null,
   "source": [
    "dataset_folder = \"DATAUJI1\"\r\n",
    "class_name = []\r\n",
    "\r\n",
    "for folder in os.listdir(dataset_folder):\r\n",
    "    class_name.append(folder)"
   ],
   "outputs": [],
   "metadata": {}
  },
  {
   "cell_type": "code",
   "execution_count": null,
   "source": [
    "truth = []\r\n",
    "prediction = []"
   ],
   "outputs": [],
   "metadata": {}
  },
  {
   "cell_type": "code",
   "execution_count": null,
   "source": [
    "face_cascade = cv2.CascadeClassifier('haarcascades/haarcascade_frontalface_default.xml')\r\n",
    "for folder in class_name:\r\n",
    "    folder_files = os.listdir(os.path.join(dataset_folder, folder))\r\n",
    "    for i, filename in enumerate(folder_files):\r\n",
    "        image = cv2.imread(os.path.join(dataset_folder, folder, filename))\r\n",
    "        dsize = (250,250)\r\n",
    "        image = cv2.resize(image, dsize)\r\n",
    "        # cv2.imshow(\"image\", image)  \r\n",
    "        gray = cv2.cvtColor(image, cv2.COLOR_BGR2GRAY)\r\n",
    "        faces = face_cascade.detectMultiScale(gray, 1.3, 5)\r\n",
    "        for (x, y, w, h) in faces:\r\n",
    "            data_slice = [y, int(y+h), x, int(x+w)]\r\n",
    "            resize_ratio = 50\r\n",
    "            h = int((data_slice[1] - data_slice[0])/resize_ratio)\r\n",
    "            w = int((data_slice[3] - data_slice[2])/resize_ratio)\r\n",
    "            \r\n",
    "            # preprocessing\r\n",
    "            face_crop = gray[data_slice[0]:data_slice[1], data_slice[2]:data_slice[3]]\r\n",
    "            FaceImage = cv2.resize(face_crop, (64,64))\r\n",
    "            # cv2.imshow(\"face\", FaceImage)\r\n",
    "            \r\n",
    "            FaceImage, __, __ = resize_data(np.array([FaceImage]), np.array([FaceImage]))\r\n",
    "\r\n",
    "            # predict image\r\n",
    "            print(folder)\r\n",
    "            predicted_obj = model.predict(FaceImage)\r\n",
    "            print(predicted_obj)\r\n",
    "            predicted_class = class_name[np.argmax(predicted_obj)]\r\n",
    "            print(predicted_class)\r\n",
    "            confidence_level = np.round(np.max(predicted_obj), 3)*100.0\r\n",
    "            print(confidence_level)\r\n",
    "            print(\"\\n\")\r\n",
    "            truth.append(folder)\r\n",
    "            prediction.append(predicted_class)\r\n",
    "            "
   ],
   "outputs": [
    {
     "output_type": "stream",
     "name": "stdout",
     "text": [
      "channels_last\n",
      "Anton\n",
      "[[1.00e+00 3.20e-06 1.99e-06 1.82e-05 4.39e-08]]\n",
      "Anton\n",
      "100.0\n",
      "\n",
      "\n",
      "channels_last\n",
      "Anton\n",
      "[[1.00e+00 2.75e-06 1.52e-06 2.23e-05 5.07e-08]]\n",
      "Anton\n",
      "100.0\n",
      "\n",
      "\n",
      "channels_last\n",
      "Anton\n",
      "[[1.00e+00 3.23e-06 1.77e-06 3.13e-05 6.75e-08]]\n",
      "Anton\n",
      "100.0\n",
      "\n",
      "\n",
      "channels_last\n",
      "Anton\n",
      "[[1.00e+00 1.25e-04 1.07e-04 1.64e-04 6.85e-07]]\n",
      "Anton\n",
      "100.0\n",
      "\n",
      "\n",
      "channels_last\n",
      "Anton\n",
      "[[9.99e-01 5.45e-04 1.07e-04 6.70e-04 1.19e-05]]\n",
      "Anton\n",
      "99.90000128746033\n",
      "\n",
      "\n",
      "channels_last\n",
      "Anton\n",
      "[[1.00e+00 4.58e-05 4.24e-05 2.98e-04 9.98e-07]]\n",
      "Anton\n",
      "100.0\n",
      "\n",
      "\n",
      "channels_last\n",
      "Anton\n",
      "[[1.00e+00 5.37e-06 6.23e-06 9.63e-05 1.55e-07]]\n",
      "Anton\n",
      "100.0\n",
      "\n",
      "\n",
      "channels_last\n",
      "Anton\n",
      "[[1.00e+00 3.20e-06 9.47e-06 1.75e-04 5.04e-08]]\n",
      "Anton\n",
      "100.0\n",
      "\n",
      "\n",
      "channels_last\n",
      "Ari\n",
      "[[6.16e-06 1.00e+00 6.55e-08 4.24e-04 2.02e-07]]\n",
      "Ari\n",
      "100.0\n",
      "\n",
      "\n",
      "channels_last\n",
      "Ari\n",
      "[[3.29e-10 1.00e+00 5.15e-10 2.65e-05 2.18e-10]]\n",
      "Ari\n",
      "100.0\n",
      "\n",
      "\n",
      "channels_last\n",
      "Ari\n",
      "[[3.58e-10 1.00e+00 7.30e-10 1.81e-05 1.87e-10]]\n",
      "Ari\n",
      "100.0\n",
      "\n",
      "\n",
      "channels_last\n",
      "Ari\n",
      "[[3.99e-10 1.00e+00 7.49e-10 1.98e-05 1.67e-10]]\n",
      "Ari\n",
      "100.0\n",
      "\n",
      "\n",
      "channels_last\n",
      "Ari\n",
      "[[3.28e-08 1.00e+00 3.04e-07 3.26e-04 3.72e-08]]\n",
      "Ari\n",
      "100.0\n",
      "\n",
      "\n",
      "channels_last\n",
      "Ari\n",
      "[[1.90e-09 1.00e+00 1.07e-08 1.56e-04 2.62e-09]]\n",
      "Ari\n",
      "100.0\n",
      "\n",
      "\n",
      "channels_last\n",
      "Ari\n",
      "[[3.45e-11 1.00e+00 8.31e-11 9.01e-06 5.31e-11]]\n",
      "Ari\n",
      "100.0\n",
      "\n",
      "\n",
      "channels_last\n",
      "Ari\n",
      "[[1.26e-09 1.00e+00 1.88e-11 6.32e-06 2.04e-10]]\n",
      "Ari\n",
      "100.0\n",
      "\n",
      "\n",
      "channels_last\n",
      "Ari\n",
      "[[2.49e-02 3.63e-02 2.55e-04 9.37e-01 1.43e-03]]\n",
      "Era\n",
      "93.69999766349792\n",
      "\n",
      "\n",
      "channels_last\n",
      "Dewik\n",
      "[[8.65e-01 3.53e-03 1.20e-02 1.19e-01 3.81e-04]]\n",
      "Anton\n",
      "86.50000095367432\n",
      "\n",
      "\n",
      "channels_last\n",
      "Dewik\n",
      "[[9.56e-01 1.05e-04 6.15e-03 3.82e-02 1.15e-05]]\n",
      "Anton\n",
      "95.59999704360962\n",
      "\n",
      "\n",
      "channels_last\n",
      "Dewik\n",
      "[[0.91 0.01 0.03 0.05 0.01]]\n",
      "Anton\n",
      "90.89999794960022\n",
      "\n",
      "\n",
      "channels_last\n",
      "Dewik\n",
      "[[8.43e-01 3.41e-03 1.43e-02 1.39e-01 6.74e-04]]\n",
      "Anton\n",
      "84.29999947547913\n",
      "\n",
      "\n",
      "channels_last\n",
      "Dewik\n",
      "[[6.30e-07 2.86e-09 7.12e-02 2.13e-10 9.29e-01]]\n",
      "Yayak\n",
      "92.90000200271606\n",
      "\n",
      "\n",
      "channels_last\n",
      "Dewik\n",
      "[[5.96e-02 4.74e-03 2.29e-02 9.12e-01 6.30e-04]]\n",
      "Era\n",
      "91.20000004768372\n",
      "\n",
      "\n",
      "channels_last\n",
      "Dewik\n",
      "[[4.02e-01 1.06e-03 6.13e-02 5.35e-01 1.16e-04]]\n",
      "Era\n",
      "53.50000262260437\n",
      "\n",
      "\n",
      "channels_last\n",
      "Dewik\n",
      "[[0.76 0.07 0.13 0.01 0.03]]\n",
      "Anton\n",
      "76.30000114440918\n",
      "\n",
      "\n",
      "channels_last\n",
      "Dewik\n",
      "[[7.86e-01 2.72e-03 4.32e-02 1.67e-01 1.72e-04]]\n",
      "Anton\n",
      "78.60000133514404\n",
      "\n",
      "\n",
      "channels_last\n",
      "Era\n",
      "[[3.08e-06 1.31e-09 2.57e-09 1.00e+00 3.14e-07]]\n",
      "Era\n",
      "100.0\n",
      "\n",
      "\n",
      "channels_last\n",
      "Era\n",
      "[[8.62e-06 1.56e-09 4.39e-08 1.00e+00 3.77e-06]]\n",
      "Era\n",
      "100.0\n",
      "\n",
      "\n",
      "channels_last\n",
      "Era\n",
      "[[3.61e-04 1.13e-07 1.69e-06 9.99e-01 4.52e-04]]\n",
      "Era\n",
      "99.90000128746033\n",
      "\n",
      "\n",
      "channels_last\n",
      "Era\n",
      "[[3.19e-04 9.27e-08 1.31e-06 9.99e-01 4.29e-04]]\n",
      "Era\n",
      "99.90000128746033\n",
      "\n",
      "\n",
      "channels_last\n",
      "Era\n",
      "[[3.38e-03 2.22e-05 2.04e-04 9.95e-01 1.06e-03]]\n",
      "Era\n",
      "99.50000047683716\n",
      "\n",
      "\n",
      "channels_last\n",
      "Era\n",
      "[[4.36e-03 9.16e-06 8.30e-05 9.90e-01 5.66e-03]]\n",
      "Era\n",
      "99.00000095367432\n",
      "\n",
      "\n",
      "channels_last\n",
      "Era\n",
      "[[4.18e-03 1.35e-03 2.77e-04 9.40e-01 5.43e-02]]\n",
      "Era\n",
      "93.99999976158142\n",
      "\n",
      "\n",
      "channels_last\n",
      "Era\n",
      "[[6.73e-06 1.23e-10 6.45e-09 1.00e+00 8.85e-07]]\n",
      "Era\n",
      "100.0\n",
      "\n",
      "\n",
      "channels_last\n",
      "Yayak\n",
      "[[8.74e-04 4.02e-02 4.29e-03 4.74e-03 9.50e-01]]\n",
      "Yayak\n",
      "94.9999988079071\n",
      "\n",
      "\n",
      "channels_last\n",
      "Yayak\n",
      "[[0.03 0.22 0.02 0.   0.73]]\n",
      "Yayak\n",
      "73.19999933242798\n",
      "\n",
      "\n",
      "channels_last\n",
      "Yayak\n",
      "[[0.03 0.19 0.03 0.   0.75]]\n",
      "Yayak\n",
      "75.3000020980835\n",
      "\n",
      "\n",
      "channels_last\n",
      "Yayak\n",
      "[[0.03 0.16 0.03 0.   0.78]]\n",
      "Yayak\n",
      "77.60000228881836\n",
      "\n",
      "\n",
      "channels_last\n",
      "Yayak\n",
      "[[0.01 0.48 0.01 0.   0.49]]\n",
      "Yayak\n",
      "48.80000054836273\n",
      "\n",
      "\n",
      "channels_last\n",
      "Yayak\n",
      "[[0.04 0.18 0.05 0.01 0.72]]\n",
      "Yayak\n",
      "72.29999899864197\n",
      "\n",
      "\n",
      "channels_last\n",
      "Yayak\n",
      "[[0.   0.12 0.   0.   0.87]]\n",
      "Yayak\n",
      "86.69999837875366\n",
      "\n",
      "\n",
      "channels_last\n",
      "Yayak\n",
      "[[0.09 0.06 0.01 0.01 0.83]]\n",
      "Yayak\n",
      "83.20000171661377\n",
      "\n",
      "\n"
     ]
    }
   ],
   "metadata": {}
  },
  {
   "cell_type": "code",
   "execution_count": null,
   "source": [],
   "outputs": [],
   "metadata": {}
  },
  {
   "cell_type": "code",
   "execution_count": 38,
   "source": [
    "from matplotlib import pyplot as plt\r\n",
    "from sklearn.metrics import confusion_matrix , classification_report\r\n",
    "import pandas as pd\r\n",
    "import seaborn as sns"
   ],
   "outputs": [],
   "metadata": {}
  },
  {
   "cell_type": "code",
   "execution_count": 32,
   "source": [
    "print(prediction)\r\n",
    "print(truth)"
   ],
   "outputs": [
    {
     "output_type": "stream",
     "name": "stdout",
     "text": [
      "['Anton', 'Anton', 'Anton', 'Anton', 'Anton', 'Anton', 'Anton', 'Anton', 'Ari', 'Ari', 'Ari', 'Ari', 'Ari', 'Ari', 'Ari', 'Ari', 'Era', 'Anton', 'Anton', 'Anton', 'Anton', 'Yayak', 'Era', 'Era', 'Anton', 'Anton', 'Era', 'Era', 'Era', 'Era', 'Era', 'Era', 'Era', 'Era', 'Yayak', 'Yayak', 'Yayak', 'Yayak', 'Yayak', 'Yayak', 'Yayak', 'Yayak']\n",
      "['Anton', 'Anton', 'Anton', 'Anton', 'Anton', 'Anton', 'Anton', 'Anton', 'Ari', 'Ari', 'Ari', 'Ari', 'Ari', 'Ari', 'Ari', 'Ari', 'Ari', 'Dewik', 'Dewik', 'Dewik', 'Dewik', 'Dewik', 'Dewik', 'Dewik', 'Dewik', 'Dewik', 'Era', 'Era', 'Era', 'Era', 'Era', 'Era', 'Era', 'Era', 'Yayak', 'Yayak', 'Yayak', 'Yayak', 'Yayak', 'Yayak', 'Yayak', 'Yayak']\n"
     ]
    }
   ],
   "metadata": {}
  },
  {
   "cell_type": "code",
   "execution_count": 39,
   "source": [
    "def print_confusion_matrix(confusion_matrix, class_names, figsize = (10,7), fontsize=14):\r\n",
    "    \"\"\"Prints a confusion matrix, as returned by sklearn.metrics.confusion_matrix, as a heatmap.\r\n",
    "    \r\n",
    "    Arguments\r\n",
    "    ---------\r\n",
    "    confusion_matrix: numpy.ndarray\r\n",
    "        The numpy.ndarray object returned from a call to sklearn.metrics.confusion_matrix. \r\n",
    "        Similarly constructed ndarrays can also be used.\r\n",
    "    class_names: list\r\n",
    "        An ordered list of class names, in the order they index the given confusion matrix.\r\n",
    "    figsize: tuple\r\n",
    "        A 2-long tuple, the first value determining the horizontal size of the ouputted figure,\r\n",
    "        the second determining the vertical size. Defaults to (10,7).\r\n",
    "    fontsize: int\r\n",
    "        Font size for axes labels. Defaults to 14.\r\n",
    "        \r\n",
    "    Returns\r\n",
    "    -------\r\n",
    "    matplotlib.figure.Figure\r\n",
    "        The resulting confusion matrix figure\r\n",
    "    \"\"\"\r\n",
    "    df_cm = pd.DataFrame(\r\n",
    "        confusion_matrix, index=class_names, columns=class_names, \r\n",
    "    )\r\n",
    "    fig = plt.figure(figsize=figsize)\r\n",
    "    try:\r\n",
    "        heatmap = sns.heatmap(df_cm, annot=True, fmt=\"d\")\r\n",
    "    except ValueError:\r\n",
    "        raise ValueError(\"Confusion matrix values must be integers.\")\r\n",
    "    heatmap.yaxis.set_ticklabels(heatmap.yaxis.get_ticklabels(), rotation=0, ha='right', fontsize=fontsize)\r\n",
    "    heatmap.xaxis.set_ticklabels(heatmap.xaxis.get_ticklabels(), rotation=45, ha='right', fontsize=fontsize)\r\n",
    "    plt.ylabel('Truth')\r\n",
    "    plt.xlabel('Prediction')\r\n",
    "    return fig"
   ],
   "outputs": [],
   "metadata": {}
  },
  {
   "cell_type": "code",
   "execution_count": 40,
   "source": [
    "cm = confusion_matrix(truth,prediction)\r\n",
    "print_confusion_matrix(cm,class_name)"
   ],
   "outputs": [
    {
     "output_type": "execute_result",
     "data": {
      "image/png": "[encoded data removed]",
      "text/plain": [
       "<Figure size 720x504 with 2 Axes>"
      ]
     },
     "metadata": {},
     "execution_count": 40
    },
    {
     "output_type": "display_data",
     "data": {
      "image/png": "[encoded data removed]",
      "text/plain": [
       "<Figure size 720x504 with 2 Axes>"
      ]
     },
     "metadata": {
      "needs_background": "light"
     }
    }
   ],
   "metadata": {}
  },
  {
   "cell_type": "code",
   "execution_count": null,
   "source": [
    "folder_count = []\r\n",
    "for folder in os.listdir(dataujipath):\r\n",
    "    folder_count.append(folder)\r\n",
    "print(folder_count)\r\n",
    "\r\n",
    "for folder in class_name:\r\n",
    "    folder_files = os.listdir(os.path.join(dataset, folder))\r\n",
    "    for i, filename in enumerate(folder_files):\r\n",
    "        img = cv2.imread(os.path.join(dataset, folder, filename))\r\n",
    "\r\n",
    "for files in folder_count:\r\n",
    "    folder_files = os.listdir(os.path.join(dataujipath, files))\r\n",
    "    for i, predict in enumerate(folder_files):\r\n",
    "        image = cv2.imread(os.path.join(dataujipath, folder_files, predict))\r\n",
    "        dsize = (250,250)\r\n",
    "        image = cv2.resize(image, dsize)\r\n",
    "        # cv2.imshow(\"image\", image)  \r\n",
    "        gray = cv2.cvtColor(image, cv2.COLOR_BGR2GRAY)\r\n",
    "        faces = face_cascade.detectMultiScale(gray, 1.3, 5)\r\n",
    "        for (x, y, w, h) in faces:\r\n",
    "            data_slice = [y, int(y+h), x, int(x+w)]\r\n",
    "            resize_ratio = 50\r\n",
    "            h = int((data_slice[1] - data_slice[0])/resize_ratio)\r\n",
    "            w = int((data_slice[3] - data_slice[2])/resize_ratio)\r\n",
    "            \r\n",
    "            # preprocessing\r\n",
    "            face_crop = gray[data_slice[0]:data_slice[1], data_slice[2]:data_slice[3]]\r\n",
    "            FaceImage = cv2.resize(face_crop, (64,64))\r\n",
    "            cv2.imshow(\"face\", FaceImage)\r\n",
    "            \r\n",
    "            FaceImage, __, __ = resize_data(np.array([FaceImage]), np.array([FaceImage]))\r\n",
    "\r\n",
    "            # predict image\r\n",
    "            predicted_obj = model.predict(FaceImage)\r\n",
    "            print(predicted_obj)\r\n",
    "            predicted_class = class_name[np.argmax(predicted_obj)]\r\n",
    "            print(predicted_class)\r\n",
    "            confidence_level = np.round(np.max(predicted_obj), 3)*100.0\r\n",
    "            print(confidence_level)\r\n",
    "\r\n",
    "            print(predicted_obj, end=\"\\r\")\r\n",
    "    # for i, filename in enumerate(folder_files):\r\n",
    "    #     img = cv2.imread(os.path.join(dataset_folder, folder, filename))"
   ],
   "outputs": [
    {
     "output_type": "error",
     "ename": "Error",
     "evalue": "Session cannot generate requests",
     "traceback": [
      "Error: Session cannot generate requests",
      "at w.executeCodeCell (c:\\Users\\MyPc\\.vscode\\extensions\\ms-toolsai.jupyter-2021.8.1236758218\\out\\client\\extension.js:90:327199)",
      "at w.execute (c:\\Users\\MyPc\\.vscode\\extensions\\ms-toolsai.jupyter-2021.8.1236758218\\out\\client\\extension.js:90:326520)",
      "at w.start (c:\\Users\\MyPc\\.vscode\\extensions\\ms-toolsai.jupyter-2021.8.1236758218\\out\\client\\extension.js:90:322336)",
      "at runMicrotasks (<anonymous>)",
      "at processTicksAndRejections (internal/process/task_queues.js:93:5)",
      "at async t.CellExecutionQueue.executeQueuedCells (c:\\Users\\MyPc\\.vscode\\extensions\\ms-toolsai.jupyter-2021.8.1236758218\\out\\client\\extension.js:90:336863)",
      "at async t.CellExecutionQueue.start (c:\\Users\\MyPc\\.vscode\\extensions\\ms-toolsai.jupyter-2021.8.1236758218\\out\\client\\extension.js:90:336403)"
     ]
    }
   ],
   "metadata": {}
  },
  {
   "cell_type": "code",
   "execution_count": null,
   "source": [
    "# import face_recognition\r\n",
    "from PIL import Image\r\n",
    "import numpy as np\r\n",
    "from numpy import asarray\r\n",
    "from cv2 import cv2\r\n",
    "\r\n",
    "face_cascade = cv2.CascadeClassifier('haarcascades/haarcascade_frontalface_default.xml')\r\n",
    "image = cv2.imread('E:\\Tolik\\KULIAH\\Seminar\\git\\Face-Recognition-CNN-Keras-OpenCV-master\\DATAUJI\\Yayak\\Yayak-11B1.jpg')\r\n",
    "dsize = (250,250)\r\n",
    "image = cv2.resize(image, dsize)\r\n",
    "# cv2.imshow(\"image\", image)  \r\n",
    "gray = cv2.cvtColor(image, cv2.COLOR_BGR2GRAY)\r\n",
    "faces = face_cascade.detectMultiScale(gray, 1.3, 5)\r\n",
    "for (x, y, w, h) in faces:\r\n",
    "    data_slice = [y, int(y+h), x, int(x+w)]\r\n",
    "    resize_ratio = 50\r\n",
    "    h = int((data_slice[1] - data_slice[0])/resize_ratio)\r\n",
    "    w = int((data_slice[3] - data_slice[2])/resize_ratio)\r\n",
    "    \r\n",
    "    # preprocessing\r\n",
    "    face_crop = gray[data_slice[0]:data_slice[1], data_slice[2]:data_slice[3]]\r\n",
    "    FaceImage = cv2.resize(face_crop, (64,64))\r\n",
    "    cv2.imshow(\"face\", FaceImage)\r\n",
    "    \r\n",
    "    FaceImage, __, __ = resize_data(np.array([FaceImage]), np.array([FaceImage]))\r\n",
    "\r\n",
    "    # predict image\r\n",
    "    predicted_obj = model.predict(FaceImage)\r\n",
    "    print(predicted_obj)\r\n",
    "    predicted_class = class_name[np.argmax(predicted_obj)]\r\n",
    "    print(predicted_class)\r\n",
    "    confidence_level = np.round(np.max(predicted_obj), 3)*100.0\r\n",
    "    print(confidence_level)\r\n",
    "\r\n",
    "    print(predicted_obj, end=\"\\r\")         \r\n",
    "\r\n",
    "cv2.waitKey(0)\r\n",
    "cv2.destroyAllWindows()\r\n"
   ],
   "outputs": [],
   "metadata": {}
  },
  {
   "cell_type": "markdown",
   "source": [
    "## Model Inference Test"
   ],
   "metadata": {}
  },
  {
   "cell_type": "code",
   "execution_count": 1,
   "source": [
    "print(class_name)"
   ],
   "outputs": [
    {
     "output_type": "error",
     "ename": "NameError",
     "evalue": "name 'class_name' is not defined",
     "traceback": [
      "\u001b[1;31m---------------------------------------------------------------------------\u001b[0m",
      "\u001b[1;31mNameError\u001b[0m                                 Traceback (most recent call last)",
      "\u001b[1;32m<ipython-input-1-8eae4d92dd60>\u001b[0m in \u001b[0;36m<module>\u001b[1;34m\u001b[0m\n\u001b[1;32m----> 1\u001b[1;33m \u001b[0mprint\u001b[0m\u001b[1;33m(\u001b[0m\u001b[0mclass_name\u001b[0m\u001b[1;33m)\u001b[0m\u001b[1;33m\u001b[0m\u001b[1;33m\u001b[0m\u001b[0m\n\u001b[0m",
      "\u001b[1;31mNameError\u001b[0m: name 'class_name' is not defined"
     ]
    }
   ],
   "metadata": {}
  },
  {
   "cell_type": "code",
   "execution_count": 47,
   "source": [],
   "outputs": [
    {
     "output_type": "error",
     "ename": "FileNotFoundError",
     "evalue": "[WinError 3] The system cannot find the path specified: 'Anton'",
     "traceback": [
      "\u001b[1;31m---------------------------------------------------------------------------\u001b[0m",
      "\u001b[1;31mFileNotFoundError\u001b[0m                         Traceback (most recent call last)",
      "\u001b[1;32m<ipython-input-47-e79712ab3b15>\u001b[0m in \u001b[0;36m<module>\u001b[1;34m\u001b[0m\n\u001b[0;32m      1\u001b[0m \u001b[1;32mfor\u001b[0m \u001b[0mfolder\u001b[0m \u001b[1;32min\u001b[0m \u001b[0mclass_name\u001b[0m\u001b[1;33m:\u001b[0m\u001b[1;33m\u001b[0m\u001b[1;33m\u001b[0m\u001b[0m\n\u001b[1;32m----> 2\u001b[1;33m     \u001b[0mfolder_count\u001b[0m \u001b[1;33m=\u001b[0m \u001b[0mos\u001b[0m\u001b[1;33m.\u001b[0m\u001b[0mlistdir\u001b[0m\u001b[1;33m(\u001b[0m\u001b[0mfolder\u001b[0m\u001b[1;33m)\u001b[0m\u001b[1;33m\u001b[0m\u001b[1;33m\u001b[0m\u001b[0m\n\u001b[0m\u001b[0;32m      3\u001b[0m     \u001b[0mprint\u001b[0m\u001b[1;33m(\u001b[0m\u001b[0mfolder_count\u001b[0m\u001b[1;33m)\u001b[0m\u001b[1;33m\u001b[0m\u001b[1;33m\u001b[0m\u001b[0m\n",
      "\u001b[1;31mFileNotFoundError\u001b[0m: [WinError 3] The system cannot find the path specified: 'Anton'"
     ]
    }
   ],
   "metadata": {}
  },
  {
   "cell_type": "code",
   "execution_count": null,
   "source": [],
   "outputs": [],
   "metadata": {}
  }
 ],
 "metadata": {
  "kernelspec": {
   "name": "python3",
   "display_name": "Python 3.9.4 64-bit"
  },
  "language_info": {
   "codemirror_mode": {
    "name": "ipython",
    "version": 3
   },
   "file_extension": ".py",
   "mimetype": "text/x-python",
   "name": "python",
   "nbconvert_exporter": "python",
   "pygments_lexer": "ipython3",
   "version": "3.9.4"
  },
  "metadata": {
   "interpreter": {
    "hash": "f0b81c968edce43c7d5a202cfd8ff8a1936271efa5a74ceaab9833e80f2a6b68"
   }
  },
  "interpreter": {
   "hash": "dac80ee27ae31522cc705343f77de28d834d48d4fea5d7070ab939bd5ce98af3"
  }
 },
 "nbformat": 4,
 "nbformat_minor": 4
}