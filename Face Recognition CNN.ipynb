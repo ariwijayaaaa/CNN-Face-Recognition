{
 "cells": [
  {
   "cell_type": "code",
   "execution_count": null,
   "source": [],
   "outputs": [],
   "metadata": {}
  },
  {
   "cell_type": "markdown",
   "source": [
    "- Dataset : http://vis-www.cs.umass.edu/lfw/#download\n",
    "\n",
    "- Dataset Structure :\n",
    "\n",
    "```\n",
    "DATASET\\\n",
    "    label_name_A\\\n",
    "        label_name_A_001.jpg\n",
    "        label_name_A_002.jpg\n",
    "        label_name_A_003.jpg\n",
    "        .\n",
    "        .\n",
    "    label_name_B\\\n",
    "        label_name_B_001.jpg\n",
    "        label_name_B_002.jpg\n",
    "        label_name_B_003.jpg\n",
    "        .\n",
    "        .\n",
    "```"
   ],
   "metadata": {}
  },
  {
   "cell_type": "code",
   "execution_count": 23,
   "source": [
    "\r\n",
    "# This will import Image and ImageEnhance modules\r\n",
    "from PIL import Image, ImageEnhance\r\n",
    "import numpy as np\r\n",
    "  \r\n",
    "# Opening Image\r\n",
    "im = Image.open(\"E:\\Tolik\\KULIAH\\Seminar\\git\\Face-Recognition-CNN-Keras-OpenCV-master\\DATASET15KAWAN\\Tolik\\Test64.jpg\")\r\n",
    "  \r\n",
    "# Creating object of Brightness class\r\n",
    "im3 = ImageEnhance.Brightness(im)\r\n",
    "im2 = ImageEnhance.Brightness(im)\r\n",
    "\r\n",
    "# showing resultant image\r\n",
    "im3.enhance(1.20).show()\r\n",
    "im2.enhance(1.00).show()"
   ],
   "outputs": [],
   "metadata": {}
  },
  {
   "cell_type": "code",
   "execution_count": 2,
   "source": [
    "import cv2\r\n",
    "import numpy\r\n",
    "  \r\n",
    "# read image\r\n",
    "src = cv2.imread('E:\\Tolik\\KULIAH\\Seminar\\git\\Face-Recognition-CNN-Keras-OpenCV-master\\DATASET15KAWAN\\Tolik\\Test64.jpg', cv2.IMREAD_UNCHANGED)\r\n",
    "# cv2.imshow(\"FOto\", img)\r\n",
    "# apply guassian blur on src image\r\n",
    "dst = cv2.GaussianBlur(src,(7,7),cv2.BORDER_DEFAULT)\r\n",
    " \r\n",
    "# display input and output image\r\n",
    "\r\n",
    "cv2.imshow(\"Gaussian Smoothing\",numpy.hstack((src, dst)))\r\n",
    "cv2.waitKey(0) # waits until a key is pressed\r\n",
    "cv2.destroyAllWindows() # destroys the window showing image"
   ],
   "outputs": [],
   "metadata": {}
  },
  {
   "cell_type": "code",
   "execution_count": 44,
   "source": [
    "# import the Python Image processing Library\r\n",
    "\r\n",
    "from PIL import Image\r\n",
    "\r\n",
    " \r\n",
    "\r\n",
    "# Create an Image object from an Image\r\n",
    "\r\n",
    "colorImage  = Image.open(\"E:\\Tolik\\KULIAH\\Seminar\\git\\Face-Recognition-CNN-Keras-OpenCV-master\\DATASET15KAWAN\\Tolik\\Test64.jpg\")\r\n",
    "\r\n",
    "rotated     = colorImage.rotate(-40)\r\n",
    "\r\n",
    "rotated.show()\r\n"
   ],
   "outputs": [],
   "metadata": {}
  },
  {
   "cell_type": "code",
   "execution_count": 1,
   "source": [
    "import os \r\n",
    "from cv2 import cv2 \r\n",
    "import numpy as np\r\n",
    "import matplotlib.pyplot as plt\r\n",
    "\r\n",
    "\r\n",
    "# disable GPU\r\n",
    "os.environ['CUDA_VISIBLE_DEVICES'] = '-1'"
   ],
   "outputs": [],
   "metadata": {}
  },
  {
   "cell_type": "code",
   "execution_count": 3,
   "source": [
    "#Path to the root image directory containing sub-directories of images\r\n",
    "dataset_folder = \"DATASET\"\r\n",
    "\r\n",
    "# data_slice = [70, 195, 78, 172] \r\n",
    "# # [ymin, ymax, xmin, xmax]\r\n",
    "# # to extract the `interesting` part of the image files \r\n",
    "# # and avoid use statistical correlation from the background \r\n",
    "\r\n",
    "# # resize ratio to reduce sample dimension\r\n",
    "# resize_ratio = 2.5\r\n",
    "\r\n",
    "# h = int((data_slice[1] - data_slice[0])/resize_ratio) #ymax - ymin slice, Height of image in float\r\n",
    "# w = int((data_slice[3] - data_slice[2])/resize_ratio) #xmax - xmin slice, Width of image in float \r\n",
    "# print(\"Image dimension after resize (h,w) :\", h, w)"
   ],
   "outputs": [],
   "metadata": {}
  },
  {
   "cell_type": "code",
   "execution_count": 2,
   "source": [
    "#Path to the root image directory containing sub-directories of images\r\n",
    "dataset_folder = \"DATAEDIT1\""
   ],
   "outputs": [],
   "metadata": {}
  },
  {
   "cell_type": "code",
   "execution_count": 3,
   "source": [
    "# minimum number of sample for each class\r\n",
    "sample_class = 39\r\n",
    "class_name = []\r\n",
    "\r\n",
    "for folder in os.listdir(dataset_folder):\r\n",
    "    if len(os.listdir(os.path.join(dataset_folder, folder))) >= sample_class:\r\n",
    "        class_name.append(folder)"
   ],
   "outputs": [],
   "metadata": {}
  },
  {
   "cell_type": "code",
   "execution_count": 4,
   "source": [
    "def print_progress(val, val_len, folder, bar_size=20):\r\n",
    "    progr = \"#\"*round((val)*bar_size/val_len) + \" \"*round((val_len - (val))*bar_size/val_len)\r\n",
    "    if val == 0:\r\n",
    "        print(\"\", end = \"\\n\")\r\n",
    "    else:\r\n",
    "        print(\"[%s] (%d samples)\\t label : %s \\t\\t\" % (progr, val, folder), end=\"\\r\")"
   ],
   "outputs": [],
   "metadata": {}
  },
  {
   "cell_type": "code",
   "execution_count": 5,
   "source": [
    "# preprocessin data using OpenCV\r\n",
    "imgs = []\r\n",
    "labels = []\r\n",
    "\r\n",
    "faceCascade = cv2.CascadeClassifier('haarcascades/haarcascade_frontalface_default.xml')\r\n",
    "for folder in class_name:\r\n",
    "    folder_files = os.listdir(os.path.join(dataset_folder, folder))\r\n",
    "    len_sub_folder = len(folder_files) - 1\r\n",
    "    for i, filename in enumerate(folder_files):\r\n",
    "        img = cv2.imread(os.path.join(dataset_folder, folder, filename))\r\n",
    "        # dsize = (240,320)\r\n",
    "        # img = cv2.resize(img, dsize)\r\n",
    "        gray = cv2.cvtColor(img, cv2.COLOR_BGR2GRAY)\r\n",
    "        faces = faceCascade.detectMultiScale(gray, 1.3, 5)\r\n",
    "        # print(\"test\")\r\n",
    "        # print(faces)\r\n",
    "        # for (x, y, w, h) in faces:\r\n",
    "        #     data_slice = [y, int(y+h), x, int(x+w)]\r\n",
    "        #     resize_ratio = 30\r\n",
    "        #     h = int((data_slice[1] - data_slice[0])/resize_ratio) #ymax - ymin slice, Height of image in float\r\n",
    "        #     w = int((data_slice[3] - data_slice[2])/resize_ratio) #xmax - xmin slice, Width of image in float\r\n",
    "        #     print(\"Image dimension after resize (h,w) :\", h, w)\r\n",
    "        #     # faces_crop = gray[y:y + h, x:x + w]\r\n",
    "        #     # cv2.imshow(\"test\",faces_crop)\r\n",
    "        #     # cv2.waitKey(0)\r\n",
    "        for (x, y, w, h) in faces:\r\n",
    "            croped = gray[y:y+h, x:x+w]\r\n",
    "            resized = cv2.resize(croped, (64,64))\r\n",
    "        # croped = gray[data_slice[0]:data_slice[1], data_slice[2]:data_slice[3]]\r\n",
    "        imgs.append(resized)\r\n",
    "        labels.append(folder)\r\n",
    "        # print_progress(i, len_sub_folder, folder)\r\n",
    "cv2.waitKey(0)\r\n",
    "cv2.destroyAllWindows()"
   ],
   "outputs": [],
   "metadata": {}
  },
  {
   "cell_type": "code",
   "execution_count": 6,
   "source": [
    "# preprocessin data using OpenCV\r\n",
    "imgs = []\r\n",
    "labels = []\r\n",
    "for folder in class_name:\r\n",
    "    folder_files = os.listdir(os.path.join(dataset_folder, folder))\r\n",
    "    len_sub_folder = len(folder_files) - 1\r\n",
    "    for i, filename in enumerate(folder_files):\r\n",
    "        img = cv2.imread(os.path.join(dataset_folder, folder, filename))\r\n",
    "        gray = cv2.cvtColor(img, cv2.COLOR_BGR2GRAY)\r\n",
    "        croped = gray[data_slice[0]:data_slice[1], data_slice[2]:data_slice[3]]\r\n",
    "        resized = cv2.resize(croped, (w,h))\r\n",
    "        imgs.append(resized)\r\n",
    "        labels.append(folder)\r\n",
    "        \r\n",
    "        print_progress(i, len_sub_folder, folder)"
   ],
   "outputs": [
    {
     "output_type": "stream",
     "name": "stdout",
     "text": [
      "\n"
     ]
    }
   ],
   "metadata": {}
  },
  {
   "cell_type": "code",
   "execution_count": 6,
   "source": [
    "print(\"Number of samples \\t: \", len(labels))\r\n",
    "print(\"Number of class \\t: \", len(class_name))\r\n",
    "print(\"Class name \\t\\t: \\n\", class_name)"
   ],
   "outputs": [
    {
     "output_type": "stream",
     "name": "stdout",
     "text": [
      "Number of samples \t:  200\n",
      "Number of class \t:  5\n",
      "Class name \t\t: \n",
      " ['Anton', 'Ari', 'Dewik', 'Era', 'Yayak']\n"
     ]
    }
   ],
   "metadata": {}
  },
  {
   "cell_type": "code",
   "execution_count": 9,
   "source": [
    "cv2.imshow(\"preview sample image\", imgs[0-120])\r\n",
    "\r\n",
    "cv2.waitKey(0)\r\n",
    "cv2.destroyAllWindows()"
   ],
   "outputs": [],
   "metadata": {}
  },
  {
   "cell_type": "code",
   "execution_count": 7,
   "source": [
    "# preview data distribution\r\n",
    "\r\n",
    "def print_data(label_distr, label_name):\r\n",
    "    plt.figure(figsize=(20,10))\r\n",
    "\r\n",
    "    my_circle = plt.Circle( (0,0), 0.7, color='white')\r\n",
    "    plt.pie(label_distr, \r\n",
    "            labels=label_name,  \r\n",
    "            autopct='%1.1f%%')\r\n",
    "\r\n",
    "    p = plt.gcf()\r\n",
    "    p.gca().add_artist(my_circle)\r\n",
    "    plt.show()\r\n",
    "    \r\n",
    "label_distr = {i:labels.count(i) for i in labels}.values()\r\n",
    "print_data(label_distr, class_name)"
   ],
   "outputs": [
    {
     "output_type": "display_data",
     "data": {
      "text/plain": [
       "<Figure size 1440x720 with 1 Axes>"
      ],
      "image/png": "[encoded data removed]"
     },
     "metadata": {}
    }
   ],
   "metadata": {}
  },
  {
   "cell_type": "markdown",
   "source": [
    "### Balancing dataset"
   ],
   "metadata": {}
  },
  {
   "cell_type": "code",
   "execution_count": 8,
   "source": [
    "# reduce sample size per-class using numpy random choice\r\n",
    "n = sample_class\r\n",
    "\r\n",
    "def randc(labels, l):\r\n",
    "    return np.random.choice(np.where(np.array(labels) == l)[0], n, replace=False)\r\n",
    "\r\n",
    "mask = np.hstack([randc(labels, l) for l in np.unique(labels)])"
   ],
   "outputs": [],
   "metadata": {}
  },
  {
   "cell_type": "code",
   "execution_count": 9,
   "source": [
    "balanced_labels = [labels[m] for m in mask]\r\n",
    "balanced_imgs = [imgs[m] for m in mask]"
   ],
   "outputs": [],
   "metadata": {}
  },
  {
   "cell_type": "code",
   "execution_count": 10,
   "source": [
    "label_distr = {i:balanced_labels.count(i) for i in balanced_labels}.values()\r\n",
    "print_data(label_distr, class_name)"
   ],
   "outputs": [
    {
     "output_type": "display_data",
     "data": {
      "text/plain": [
       "<Figure size 1440x720 with 1 Axes>"
      ],
      "image/png": "[encoded data removed]"
     },
     "metadata": {}
    }
   ],
   "metadata": {}
  },
  {
   "cell_type": "markdown",
   "source": [
    "### Prepare Dataset"
   ],
   "metadata": {}
  },
  {
   "cell_type": "code",
   "execution_count": 11,
   "source": [
    "from sklearn.preprocessing import LabelEncoder\r\n",
    "from keras.utils.np_utils import to_categorical\r\n",
    "\r\n",
    "from sklearn.model_selection import train_test_split\r\n",
    "\r\n",
    "from sklearn.metrics import classification_report\r\n",
    "from sklearn.metrics import confusion_matrix"
   ],
   "outputs": [
    {
     "output_type": "stream",
     "name": "stdout",
     "text": [
      "INFO:tensorflow:Enabling eager execution\n",
      "INFO:tensorflow:Enabling v2 tensorshape\n",
      "INFO:tensorflow:Enabling resource variables\n",
      "INFO:tensorflow:Enabling tensor equality\n",
      "INFO:tensorflow:Enabling control flow v2\n"
     ]
    }
   ],
   "metadata": {}
  },
  {
   "cell_type": "code",
   "execution_count": 12,
   "source": [
    "X = np.array(balanced_imgs)"
   ],
   "outputs": [],
   "metadata": {}
  },
  {
   "cell_type": "markdown",
   "source": [
    "#### Label encoding & categoricalize output vector"
   ],
   "metadata": {}
  },
  {
   "cell_type": "code",
   "execution_count": 13,
   "source": [
    "le = LabelEncoder()\r\n",
    "le.fit(balanced_labels)\r\n",
    "le.classes_"
   ],
   "outputs": [
    {
     "output_type": "execute_result",
     "data": {
      "text/plain": [
       "array(['Anton', 'Ari', 'Dewik', 'Era', 'Yayak'], dtype='<U5')"
      ]
     },
     "metadata": {},
     "execution_count": 13
    }
   ],
   "metadata": {}
  },
  {
   "cell_type": "code",
   "execution_count": 14,
   "source": [
    "class_name"
   ],
   "outputs": [
    {
     "output_type": "execute_result",
     "data": {
      "text/plain": [
       "['Anton', 'Ari', 'Dewik', 'Era', 'Yayak']"
      ]
     },
     "metadata": {},
     "execution_count": 14
    }
   ],
   "metadata": {}
  },
  {
   "cell_type": "code",
   "execution_count": 15,
   "source": [
    "Y = le.transform(balanced_labels)\r\n",
    "Y = to_categorical(Y)"
   ],
   "outputs": [],
   "metadata": {}
  },
  {
   "cell_type": "markdown",
   "source": [
    "#### Split dataset"
   ],
   "metadata": {}
  },
  {
   "cell_type": "code",
   "execution_count": 16,
   "source": [
    "X_train, X_test, y_train, y_test = \\\r\n",
    "                    train_test_split(X, \r\n",
    "                                     Y, \r\n",
    "                                     test_size=0.30, \r\n",
    "                                     random_state=4)\r\n",
    "  \r\n",
    "print(\"Dimensi data :\\n\")\r\n",
    "print(\"X train \\t X test \\t Y train \\t Y test\")  \r\n",
    "print(\"%s \\t \\t %s \\t\\t %s \\t %s\" % (X_train.shape, X_test.shape, y_train.shape, y_test.shape))"
   ],
   "outputs": [
    {
     "output_type": "stream",
     "name": "stdout",
     "text": [
      "Dimensi data :\n",
      "\n",
      "X train \t X test \t Y train \t Y test\n",
      "(136, 64, 64) \t \t (59, 64, 64) \t\t (136, 5) \t (59, 5)\n"
     ]
    }
   ],
   "metadata": {}
  },
  {
   "cell_type": "markdown",
   "source": [
    "### Build CNN Model"
   ],
   "metadata": {}
  },
  {
   "cell_type": "code",
   "execution_count": 17,
   "source": [
    "import keras\r\n",
    "from keras import backend as K\r\n",
    "from keras.models import Sequential\r\n",
    "from keras.optimizers import Adam\r\n",
    "from keras.layers import Dense, Conv2D, MaxPool2D, GlobalMaxPool2D, Dropout, Flatten, Activation\r\n",
    "from keras.callbacks import EarlyStopping, ModelCheckpoint"
   ],
   "outputs": [],
   "metadata": {}
  },
  {
   "cell_type": "code",
   "execution_count": 18,
   "source": [
    "def resize_data(X_train, X_test):\r\n",
    "    #\r\n",
    "    # 4+D tensor with shape: batch_shape + (channels, rows, cols) if data_format='channels_first' or \r\n",
    "    # 4+D tensor with shape: batch_shape + (rows, cols, channels) if data_format='channels_last'.\r\n",
    "    #\r\n",
    "    print(K.image_data_format())\r\n",
    "    if K.image_data_format() == 'channels_first':\r\n",
    "        X_train = X_train.reshape(X_train.shape[0], 1, X_train.shape[1], X_train.shape[2])\r\n",
    "        X_test = X_test.reshape(X_test.shape[0], 1, X_test.shape[1], X_test.shape[2])\r\n",
    "        input_shape = (1, X_train.shape[1], X_train.shape[2])\r\n",
    "    else:\r\n",
    "        X_train = X_train.reshape(X_train.shape[0], X_train.shape[1], X_train.shape[2], 1)\r\n",
    "        X_test = X_test.reshape(X_test.shape[0], X_test.shape[1], X_test.shape[2], 1)\r\n",
    "        # print(X_train.shape)\r\n",
    "        input_shape = (X_train.shape[1], X_train.shape[2], 1)\r\n",
    "    return X_train, X_test, input_shape\r\n"
   ],
   "outputs": [],
   "metadata": {}
  },
  {
   "cell_type": "code",
   "execution_count": 19,
   "source": [
    "def precision(y_true, y_pred):\r\n",
    "    true_positives = K.sum(K.round(K.clip(y_true * y_pred, 0, 1)))\r\n",
    "    possible_positives = K.sum(K.round(K.clip(y_true, 0, 1)))\r\n",
    "    recall = true_positives / (possible_positives + K.epsilon())\r\n",
    "    return recall\r\n",
    "\r\n",
    "def recall(y_true, y_pred):\r\n",
    "    true_positives = K.sum(K.round(K.clip(y_true * y_pred, 0, 1)))\r\n",
    "    predicted_positives = K.sum(K.round(K.clip(y_pred, 0, 1)))\r\n",
    "    precision = true_positives / (predicted_positives + K.epsilon())\r\n",
    "    return precision"
   ],
   "outputs": [],
   "metadata": {}
  },
  {
   "cell_type": "code",
   "execution_count": 23,
   "source": [
    "# def cnn_model(image_shape, output_size):\r\n",
    "#     opt = Adam() #learning_rate=0.001\r\n",
    "    \r\n",
    "#     model = Sequential()\r\n",
    "    \r\n",
    "#     model.add(Conv2D(64,\r\n",
    "#                     (3,3),\r\n",
    "#                     padding=\"valid\",\r\n",
    "#                     activation=\"relu\",\r\n",
    "#                     input_shape=image_shape))\r\n",
    "#     model.add(Conv2D(64,\r\n",
    "#                     (3,3),\r\n",
    "#                     padding=\"valid\",\r\n",
    "#                     activation=\"relu\"))\r\n",
    "#     model.add(MaxPool2D(pool_size=(2, 2)))\r\n",
    "              \r\n",
    "#     model.add(Dropout(0.2))\r\n",
    "    \r\n",
    "#     model.add(Conv2D(128,\r\n",
    "#                     (3,3),\r\n",
    "#                     padding=\"valid\",\r\n",
    "#                     activation=\"relu\"))\r\n",
    "#     model.add(Conv2D(128,\r\n",
    "#                     (3,3),\r\n",
    "#                     padding=\"valid\",\r\n",
    "#                     activation=\"relu\"))\r\n",
    "#     model.add(MaxPool2D(pool_size=(2, 2)))\r\n",
    "\r\n",
    "#     model.add(Flatten())\r\n",
    "    \r\n",
    "#     model.add(Dropout(0.2))\r\n",
    "#     model.add(Dense(512, activation=\"relu\"))\r\n",
    "#     model.add(Dropout(0.2))\r\n",
    "#     model.add(Dense(256, activation=\"relu\"))\r\n",
    "#     model.add(Dense(output_size))\r\n",
    "#     model.add(Activation(\"softmax\"))\r\n",
    "    \r\n",
    "#     model.summary() \r\n",
    "    \r\n",
    "#     model.compile(optimizer=opt, \r\n",
    "#                   loss='categorical_crossentropy',\r\n",
    "#                   metrics = ['accuracy', precision, recall])\r\n",
    "\r\n",
    "#     return model"
   ],
   "outputs": [],
   "metadata": {}
  },
  {
   "cell_type": "code",
   "execution_count": 20,
   "source": [
    "def cnn_model(image_shape, output_size):\r\n",
    "    opt = Adam() #learning_rate=0.001\r\n",
    "    \r\n",
    "    model = Sequential()\r\n",
    "    \r\n",
    "    model.add(Conv2D(32,\r\n",
    "                    (3,3),\r\n",
    "                    padding=\"same\",\r\n",
    "                    activation=\"relu\",\r\n",
    "                    input_shape=image_shape))\r\n",
    "    model.add(MaxPool2D(pool_size=(2, 2)))\r\n",
    "    \r\n",
    "    model.add(Conv2D(64,\r\n",
    "                    (3,3),\r\n",
    "                    padding=\"same\",\r\n",
    "                    activation=\"relu\"))\r\n",
    "    model.add(MaxPool2D(pool_size=(2, 2)))\r\n",
    "\r\n",
    "    model.add(Flatten())\r\n",
    "    \r\n",
    "    model.add(Dropout(0.2))\r\n",
    "    model.add(Dense(256, activation=\"relu\"))\r\n",
    "    model.add(Dense(output_size))\r\n",
    "    model.add(Activation(\"softmax\"))\r\n",
    "    \r\n",
    "    model.summary() \r\n",
    "    \r\n",
    "    model.compile(optimizer=opt, \r\n",
    "                  loss='categorical_crossentropy',\r\n",
    "                  metrics = ['accuracy', precision, recall])\r\n",
    "\r\n",
    "    return model"
   ],
   "outputs": [],
   "metadata": {}
  },
  {
   "cell_type": "code",
   "execution_count": 21,
   "source": [
    "X_train, X_test, input_shape = resize_data(X_train, X_test)\r\n",
    "EPOCHS = 40\r\n",
    "BATCH_SIZE = 64\r\n",
    "\r\n",
    "model = cnn_model(input_shape, len(class_name))\r\n",
    "\r\n",
    "\r\n",
    "callbacks = [EarlyStopping(monitor='val_loss', patience=10),\r\n",
    "             ModelCheckpoint(filepath='best_model.h5', monitor='val_loss', save_best_only=True, verbose=1)]\r\n",
    "    \r\n",
    "history = model.fit(X_train, \r\n",
    "                      y_train,\r\n",
    "                      epochs=EPOCHS,\r\n",
    "                      batch_size=BATCH_SIZE,\r\n",
    "                      callbacks=callbacks,\r\n",
    "                      validation_data=(X_test,y_test))\r\n",
    "\r\n",
    "model.load_weights('best_model.h5')"
   ],
   "outputs": [
    {
     "output_type": "stream",
     "name": "stdout",
     "text": [
      "channels_last\n",
      "Model: \"sequential\"\n",
      "_________________________________________________________________\n",
      "Layer (type)                 Output Shape              Param #   \n",
      "=================================================================\n",
      "conv2d (Conv2D)              (None, 64, 64, 32)        320       \n",
      "_________________________________________________________________\n",
      "max_pooling2d (MaxPooling2D) (None, 32, 32, 32)        0         \n",
      "_________________________________________________________________\n",
      "conv2d_1 (Conv2D)            (None, 32, 32, 64)        18496     \n",
      "_________________________________________________________________\n",
      "max_pooling2d_1 (MaxPooling2 (None, 16, 16, 64)        0         \n",
      "_________________________________________________________________\n",
      "flatten (Flatten)            (None, 16384)             0         \n",
      "_________________________________________________________________\n",
      "dropout (Dropout)            (None, 16384)             0         \n",
      "_________________________________________________________________\n",
      "dense (Dense)                (None, 256)               4194560   \n",
      "_________________________________________________________________\n",
      "dense_1 (Dense)              (None, 5)                 1285      \n",
      "_________________________________________________________________\n",
      "activation (Activation)      (None, 5)                 0         \n",
      "=================================================================\n",
      "Total params: 4,214,661\n",
      "Trainable params: 4,214,661\n",
      "Non-trainable params: 0\n",
      "_________________________________________________________________\n",
      "Epoch 1/40\n",
      "WARNING:tensorflow:AutoGraph could not transform <bound method Dense.call of <keras.layers.core.Dense object at 0x0000019A45F15B50>> and will run it as-is.\n",
      "Please report this to the TensorFlow team. When filing the bug, set the verbosity to 10 (on Linux, `export AUTOGRAPH_VERBOSITY=10`) and attach the full output.\n",
      "Cause: invalid syntax (tmpqfapncju.py, line 48)\n",
      "To silence this warning, decorate the function with @tf.autograph.experimental.do_not_convert\n",
      "WARNING: AutoGraph could not transform <bound method Dense.call of <keras.layers.core.Dense object at 0x0000019A45F15B50>> and will run it as-is.\n",
      "Please report this to the TensorFlow team. When filing the bug, set the verbosity to 10 (on Linux, `export AUTOGRAPH_VERBOSITY=10`) and attach the full output.\n",
      "Cause: invalid syntax (tmpqfapncju.py, line 48)\n",
      "To silence this warning, decorate the function with @tf.autograph.experimental.do_not_convert\n",
      "3/3 [==============================] - 21s 659ms/step - loss: 226.6864 - accuracy: 0.1605 - precision: 0.1895 - recall: 0.1895 - val_loss: 380.1358 - val_accuracy: 0.2373 - val_precision: 0.2373 - val_recall: 0.2373\n",
      "\n",
      "Epoch 00001: val_loss improved from inf to 380.13580, saving model to best_model.h5\n",
      "Epoch 2/40\n",
      "3/3 [==============================] - 1s 197ms/step - loss: 293.6176 - accuracy: 0.3459 - precision: 0.3835 - recall: 0.3835 - val_loss: 98.3238 - val_accuracy: 0.1186 - val_precision: 0.1186 - val_recall: 0.1186\n",
      "\n",
      "Epoch 00002: val_loss improved from 380.13580 to 98.32384, saving model to best_model.h5\n",
      "Epoch 3/40\n",
      "3/3 [==============================] - 1s 197ms/step - loss: 67.9529 - accuracy: 0.2405 - precision: 0.2780 - recall: 0.2780 - val_loss: 6.6180 - val_accuracy: 0.3220 - val_precision: 0.3220 - val_recall: 0.3220\n",
      "\n",
      "Epoch 00003: val_loss improved from 98.32384 to 6.61797, saving model to best_model.h5\n",
      "Epoch 4/40\n",
      "3/3 [==============================] - 1s 190ms/step - loss: 6.9213 - accuracy: 0.3626 - precision: 0.4141 - recall: 0.4141 - val_loss: 2.3368 - val_accuracy: 0.7627 - val_precision: 0.7627 - val_recall: 0.7895\n",
      "\n",
      "Epoch 00004: val_loss improved from 6.61797 to 2.33680, saving model to best_model.h5\n",
      "Epoch 5/40\n",
      "3/3 [==============================] - 1s 195ms/step - loss: 3.2594 - accuracy: 0.6546 - precision: 0.7018 - recall: 0.7103 - val_loss: 0.0495 - val_accuracy: 0.9831 - val_precision: 0.9831 - val_recall: 0.9831\n",
      "\n",
      "Epoch 00005: val_loss improved from 2.33680 to 0.04952, saving model to best_model.h5\n",
      "Epoch 6/40\n",
      "3/3 [==============================] - 1s 189ms/step - loss: 0.2740 - accuracy: 0.9244 - precision: 0.9180 - recall: 0.9180 - val_loss: 0.1308 - val_accuracy: 0.9661 - val_precision: 0.9492 - val_recall: 0.9655\n",
      "\n",
      "Epoch 00006: val_loss did not improve from 0.04952\n",
      "Epoch 7/40\n",
      "3/3 [==============================] - 1s 190ms/step - loss: 0.0733 - accuracy: 0.9562 - precision: 0.9616 - recall: 0.9661 - val_loss: 0.0030 - val_accuracy: 1.0000 - val_precision: 1.0000 - val_recall: 1.0000\n",
      "\n",
      "Epoch 00007: val_loss improved from 0.04952 to 0.00301, saving model to best_model.h5\n",
      "Epoch 8/40\n",
      "3/3 [==============================] - 1s 189ms/step - loss: 0.0194 - accuracy: 0.9905 - precision: 0.9915 - recall: 1.0000 - val_loss: 5.6577e-04 - val_accuracy: 1.0000 - val_precision: 1.0000 - val_recall: 1.0000\n",
      "\n",
      "Epoch 00008: val_loss improved from 0.00301 to 0.00057, saving model to best_model.h5\n",
      "Epoch 9/40\n",
      "3/3 [==============================] - 1s 234ms/step - loss: 0.0055 - accuracy: 1.0000 - precision: 1.0000 - recall: 1.0000 - val_loss: 1.4906e-04 - val_accuracy: 1.0000 - val_precision: 1.0000 - val_recall: 1.0000\n",
      "\n",
      "Epoch 00009: val_loss improved from 0.00057 to 0.00015, saving model to best_model.h5\n",
      "Epoch 10/40\n",
      "3/3 [==============================] - 1s 190ms/step - loss: 0.0032 - accuracy: 1.0000 - precision: 1.0000 - recall: 1.0000 - val_loss: 2.9183e-05 - val_accuracy: 1.0000 - val_precision: 1.0000 - val_recall: 1.0000\n",
      "\n",
      "Epoch 00010: val_loss improved from 0.00015 to 0.00003, saving model to best_model.h5\n",
      "Epoch 11/40\n",
      "3/3 [==============================] - 1s 190ms/step - loss: 7.9055e-04 - accuracy: 1.0000 - precision: 1.0000 - recall: 1.0000 - val_loss: 1.0970e-04 - val_accuracy: 1.0000 - val_precision: 1.0000 - val_recall: 1.0000\n",
      "\n",
      "Epoch 00011: val_loss did not improve from 0.00003\n",
      "Epoch 12/40\n",
      "3/3 [==============================] - 1s 191ms/step - loss: 2.1628e-04 - accuracy: 1.0000 - precision: 1.0000 - recall: 1.0000 - val_loss: 1.5923e-04 - val_accuracy: 1.0000 - val_precision: 1.0000 - val_recall: 1.0000\n",
      "\n",
      "Epoch 00012: val_loss did not improve from 0.00003\n",
      "Epoch 13/40\n",
      "3/3 [==============================] - 1s 193ms/step - loss: 0.0115 - accuracy: 0.9944 - precision: 0.9954 - recall: 0.9954 - val_loss: 2.7633e-04 - val_accuracy: 1.0000 - val_precision: 1.0000 - val_recall: 1.0000\n",
      "\n",
      "Epoch 00013: val_loss did not improve from 0.00003\n",
      "Epoch 14/40\n",
      "3/3 [==============================] - 1s 192ms/step - loss: 0.0350 - accuracy: 0.9887 - precision: 0.9909 - recall: 0.9909 - val_loss: 1.8891e-06 - val_accuracy: 1.0000 - val_precision: 1.0000 - val_recall: 1.0000\n",
      "\n",
      "Epoch 00014: val_loss improved from 0.00003 to 0.00000, saving model to best_model.h5\n",
      "Epoch 15/40\n",
      "3/3 [==============================] - 1s 224ms/step - loss: 2.0010e-04 - accuracy: 1.0000 - precision: 1.0000 - recall: 1.0000 - val_loss: 2.1599e-05 - val_accuracy: 1.0000 - val_precision: 1.0000 - val_recall: 1.0000\n",
      "\n",
      "Epoch 00015: val_loss did not improve from 0.00000\n",
      "Epoch 16/40\n",
      "3/3 [==============================] - 1s 204ms/step - loss: 8.0415e-04 - accuracy: 1.0000 - precision: 1.0000 - recall: 1.0000 - val_loss: 1.3303e-04 - val_accuracy: 1.0000 - val_precision: 1.0000 - val_recall: 1.0000\n",
      "\n",
      "Epoch 00016: val_loss did not improve from 0.00000\n",
      "Epoch 17/40\n",
      "3/3 [==============================] - 1s 206ms/step - loss: 0.0039 - accuracy: 1.0000 - precision: 1.0000 - recall: 1.0000 - val_loss: 9.8031e-05 - val_accuracy: 1.0000 - val_precision: 1.0000 - val_recall: 1.0000\n",
      "\n",
      "Epoch 00017: val_loss did not improve from 0.00000\n",
      "Epoch 18/40\n",
      "3/3 [==============================] - 1s 228ms/step - loss: 0.0012 - accuracy: 1.0000 - precision: 1.0000 - recall: 1.0000 - val_loss: 2.6157e-05 - val_accuracy: 1.0000 - val_precision: 1.0000 - val_recall: 1.0000\n",
      "\n",
      "Epoch 00018: val_loss did not improve from 0.00000\n",
      "Epoch 19/40\n",
      "3/3 [==============================] - 1s 194ms/step - loss: 0.0013 - accuracy: 1.0000 - precision: 1.0000 - recall: 1.0000 - val_loss: 1.1567e-05 - val_accuracy: 1.0000 - val_precision: 1.0000 - val_recall: 1.0000\n",
      "\n",
      "Epoch 00019: val_loss did not improve from 0.00000\n",
      "Epoch 20/40\n",
      "3/3 [==============================] - 1s 206ms/step - loss: 2.7136e-04 - accuracy: 1.0000 - precision: 1.0000 - recall: 1.0000 - val_loss: 1.0714e-05 - val_accuracy: 1.0000 - val_precision: 1.0000 - val_recall: 1.0000\n",
      "\n",
      "Epoch 00020: val_loss did not improve from 0.00000\n",
      "Epoch 21/40\n",
      "3/3 [==============================] - 1s 199ms/step - loss: 3.3602e-04 - accuracy: 1.0000 - precision: 1.0000 - recall: 1.0000 - val_loss: 1.5481e-05 - val_accuracy: 1.0000 - val_precision: 1.0000 - val_recall: 1.0000\n",
      "\n",
      "Epoch 00021: val_loss did not improve from 0.00000\n",
      "Epoch 22/40\n",
      "3/3 [==============================] - 1s 225ms/step - loss: 1.6023e-04 - accuracy: 1.0000 - precision: 1.0000 - recall: 1.0000 - val_loss: 2.2571e-05 - val_accuracy: 1.0000 - val_precision: 1.0000 - val_recall: 1.0000\n",
      "\n",
      "Epoch 00022: val_loss did not improve from 0.00000\n",
      "Epoch 23/40\n",
      "3/3 [==============================] - 1s 191ms/step - loss: 2.0947e-04 - accuracy: 1.0000 - precision: 1.0000 - recall: 1.0000 - val_loss: 3.6884e-05 - val_accuracy: 1.0000 - val_precision: 1.0000 - val_recall: 1.0000\n",
      "\n",
      "Epoch 00023: val_loss did not improve from 0.00000\n",
      "Epoch 24/40\n",
      "3/3 [==============================] - 1s 196ms/step - loss: 8.6818e-05 - accuracy: 1.0000 - precision: 1.0000 - recall: 1.0000 - val_loss: 4.9150e-05 - val_accuracy: 1.0000 - val_precision: 1.0000 - val_recall: 1.0000\n",
      "\n",
      "Epoch 00024: val_loss did not improve from 0.00000\n"
     ]
    }
   ],
   "metadata": {
    "tags": []
   }
  },
  {
   "cell_type": "code",
   "execution_count": 22,
   "source": [
    "def evaluate_model(history):\r\n",
    "    names = [['accuracy', 'val_accuracy'], \r\n",
    "             ['loss', 'val_loss'], \r\n",
    "             ['precision', 'val_precision'], \r\n",
    "             ['recall', 'val_recall']]\r\n",
    "    for name in names :\r\n",
    "        fig1, ax_acc = plt.subplots()\r\n",
    "        plt.plot(history.history[name[0]])\r\n",
    "        plt.plot(history.history[name[1]])\r\n",
    "        plt.xlabel('Epoch')\r\n",
    "        plt.ylabel(name[0])\r\n",
    "        plt.title('Model - ' + name[0])\r\n",
    "        plt.legend(['Training', 'Validation'], loc='lower right')\r\n",
    "        plt.show()\r\n",
    "        \r\n",
    "evaluate_model(history)"
   ],
   "outputs": [
    {
     "output_type": "display_data",
     "data": {
      "text/plain": [
       "<Figure size 432x288 with 1 Axes>"
      ],
      "image/png": "[encoded data removed]"
     },
     "metadata": {
      "needs_background": "light"
     }
    },
    {
     "output_type": "display_data",
     "data": {
      "text/plain": [
       "<Figure size 432x288 with 1 Axes>"
      ],
      "image/png": "[encoded data removed]"
     },
     "metadata": {
      "needs_background": "light"
     }
    },
    {
     "output_type": "display_data",
     "data": {
      "text/plain": [
       "<Figure size 432x288 with 1 Axes>"
      ],
      "image/png": "[encoded data removed]"
     },
     "metadata": {
      "needs_background": "light"
     }
    },
    {
     "output_type": "display_data",
     "data": {
      "text/plain": [
       "<Figure size 432x288 with 1 Axes>"
      ],
      "image/png": "[encoded data removed]"
     },
     "metadata": {
      "needs_background": "light"
     }
    }
   ],
   "metadata": {}
  },
  {
   "cell_type": "code",
   "execution_count": null,
   "source": [],
   "outputs": [],
   "metadata": {}
  },
  {
   "cell_type": "code",
   "execution_count": 23,
   "source": [
    "import itertools\r\n",
    "def plot_confusion_matrix(cm, classes,\r\n",
    "                          normalize=False,\r\n",
    "                          title='Confusion matrix',\r\n",
    "                          cmap=plt.cm.Blues):\r\n",
    "    if normalize:\r\n",
    "        cm = cm.astype('float') / cm.sum(axis=1)[:, np.newaxis]\r\n",
    "\r\n",
    "    plt.figure(figsize=(10, 10))\r\n",
    "    \r\n",
    "    plt.imshow(cm, interpolation='nearest', cmap=cmap)\r\n",
    "    plt.title(title)\r\n",
    "    plt.colorbar()\r\n",
    "    \r\n",
    "    tick_marks = np.arange(len(classes))\r\n",
    "    plt.xticks(tick_marks, classes, rotation=45)\r\n",
    "    plt.yticks(tick_marks, classes)\r\n",
    "\r\n",
    "    fmt = '.2f' if normalize else 'd'\r\n",
    "    thresh = cm.max() / 2.\r\n",
    "    for i, j in itertools.product(range(cm.shape[0]), range(cm.shape[1])):\r\n",
    "        plt.text(j, i, format(cm[i, j], fmt),\r\n",
    "                 horizontalalignment=\"center\",\r\n",
    "                 color=\"white\" if cm[i, j] > thresh else \"black\")\r\n",
    "\r\n",
    "    plt.tight_layout()\r\n",
    "    plt.ylabel('True label')\r\n",
    "    plt.xlabel('Predicted label')\r\n",
    "    plt.show()"
   ],
   "outputs": [],
   "metadata": {}
  },
  {
   "cell_type": "code",
   "execution_count": null,
   "source": [],
   "outputs": [],
   "metadata": {}
  },
  {
   "cell_type": "code",
   "execution_count": 24,
   "source": [
    "# predict test data\r\n",
    "y_pred=model.predict(X_test)\r\n",
    "\r\n",
    "\r\n",
    "# Compute confusion matrix\r\n",
    "cnf_matrix = confusion_matrix(y_test.argmax(axis=1), y_pred.argmax(axis=1))\r\n",
    "np.set_printoptions(precision=2)\r\n",
    "\r\n",
    "\r\n",
    "# Plot non-normalized confusion matrix\r\n",
    "plot_confusion_matrix(cnf_matrix, \r\n",
    "                      classes=class_name,\r\n",
    "                      normalize=False,\r\n",
    "                      title='Confusion matrix, with normalization')\r\n"
   ],
   "outputs": [
    {
     "output_type": "display_data",
     "data": {
      "text/plain": [
       "<Figure size 720x720 with 2 Axes>"
      ],
      "image/png": "[encoded data removed]"
     },
     "metadata": {
      "needs_background": "light"
     }
    }
   ],
   "metadata": {}
  },
  {
   "cell_type": "code",
   "execution_count": 25,
   "source": [
    "print(classification_report(y_test.argmax(axis=1), \r\n",
    "                            y_pred.argmax(axis=1), \r\n",
    "                            target_names=class_name))"
   ],
   "outputs": [
    {
     "output_type": "stream",
     "name": "stdout",
     "text": [
      "              precision    recall  f1-score   support\n",
      "\n",
      "       Anton       1.00      1.00      1.00        14\n",
      "         Ari       1.00      1.00      1.00         7\n",
      "       Dewik       1.00      1.00      1.00        15\n",
      "         Era       1.00      1.00      1.00        10\n",
      "       Yayak       1.00      1.00      1.00        13\n",
      "\n",
      "    accuracy                           1.00        59\n",
      "   macro avg       1.00      1.00      1.00        59\n",
      "weighted avg       1.00      1.00      1.00        59\n",
      "\n"
     ]
    }
   ],
   "metadata": {}
  },
  {
   "cell_type": "markdown",
   "source": [
    "Tolik Punya"
   ],
   "metadata": {}
  },
  {
   "cell_type": "code",
   "execution_count": 1,
   "source": [
    "data_slice = [70, 195, 78, 172] \r\n",
    "# [ymin, ymax, xmin, xmax]\r\n",
    "# to extract the `interesting` part of the image files \r\n",
    "# and avoid use statistical correlation from the background \r\n",
    "\r\n",
    "# resize ratio to reduce sample dimension\r\n",
    "resize_ratio = 2.5\r\n",
    "\r\n",
    "h = int((data_slice[1] - data_slice[0])/resize_ratio) #ymax - ymin slice, Height of image in float\r\n",
    "w = int((data_slice[3] - data_slice[2])/resize_ratio) #xmax - xmin slice, Width of image in float \r\n",
    "print(\"Image dimension after resize (h,w) :\", h, w)"
   ],
   "outputs": [
    {
     "output_type": "stream",
     "name": "stdout",
     "text": [
      "Image dimension after resize (h,w) : 50 37\n"
     ]
    }
   ],
   "metadata": {}
  },
  {
   "cell_type": "code",
   "execution_count": 34,
   "source": [
    "# import face_recognition\r\n",
    "from PIL import Image\r\n",
    "import numpy as np\r\n",
    "from numpy import asarray\r\n",
    "from cv2 import cv2\r\n",
    "\r\n",
    "face_cascade = cv2.CascadeClassifier('haarcascades/haarcascade_frontalface_default.xml')\r\n",
    "image = cv2.imread('E:\\Tolik\\KULIAH\\Seminar\\git\\Face-Recognition-CNN-Keras-OpenCV-master\\DATAUJI1\\Ari\\Ari-10B1.jpg')\r\n",
    "dsize = (250,250)\r\n",
    "image = cv2.resize(image, dsize)\r\n",
    "# cv2.imshow(\"image\", image)  \r\n",
    "gray = cv2.cvtColor(image, cv2.COLOR_BGR2GRAY)\r\n",
    "faces = face_cascade.detectMultiScale(gray, 1.3, 5)\r\n",
    "for (x, y, w, h) in faces:\r\n",
    "    data_slice = [y, int(y+h), x, int(x+w)]\r\n",
    "    resize_ratio = 50\r\n",
    "    h = int((data_slice[1] - data_slice[0])/resize_ratio)\r\n",
    "    w = int((data_slice[3] - data_slice[2])/resize_ratio)\r\n",
    "    \r\n",
    "    # preprocessing\r\n",
    "    face_crop = gray[data_slice[0]:data_slice[1], data_slice[2]:data_slice[3]]\r\n",
    "    FaceImage = cv2.resize(face_crop, (64,64))\r\n",
    "    cv2.imshow(\"face\", FaceImage)\r\n",
    "    \r\n",
    "    FaceImage, __, __ = resize_data(np.array([FaceImage]), np.array([FaceImage]))\r\n",
    "\r\n",
    "    # predict image\r\n",
    "    predicted_obj = model.predict(FaceImage)\r\n",
    "    print(predicted_obj)\r\n",
    "    predicted_class = class_name[np.argmax(predicted_obj)]\r\n",
    "    print(predicted_class)\r\n",
    "    confidence_level = np.round(np.max(predicted_obj), 3)*100.0\r\n",
    "    print(confidence_level)\r\n",
    "\r\n",
    "    print(predicted_obj, end=\"\\r\")         \r\n",
    "\r\n",
    "cv2.waitKey(0)\r\n",
    "cv2.destroyAllWindows()\r\n"
   ],
   "outputs": [
    {
     "output_type": "stream",
     "name": "stdout",
     "text": [
      "channels_last\n",
      "[[2.01e-03 3.52e-04 9.85e-04 2.65e-03 9.94e-01]]\n",
      "Yayak\n",
      "99.40000176429749\n"
     ]
    }
   ],
   "metadata": {}
  },
  {
   "cell_type": "markdown",
   "source": [
    "## Model Inference Test"
   ],
   "metadata": {}
  },
  {
   "cell_type": "code",
   "execution_count": 31,
   "source": [
    "import face_recognition\r\n",
    "from PIL import Image\r\n",
    "import numpy as np\r\n",
    "from numpy import asarray\r\n",
    "from cv2 import cv2\r\n",
    "\r\n",
    "cap = cv2.VideoCapture(0)\r\n",
    "face_cascade = cv2.CascadeClassifier('haarcascades/haarcascade_frontalface_default.xml')\r\n",
    "\r\n",
    "cap.set(3,640)\r\n",
    "cap.set(4,480)\r\n",
    "\r\n",
    "while(True):\r\n",
    "    # Capture frame-by-frame\r\n",
    "    test = []\r\n",
    "    face = []\r\n",
    "    ret, frame = cap.read()\r\n",
    "    xv, yv, cv = frame.shape\r\n",
    "    if ret == True :\r\n",
    "        \r\n",
    "        gray = cv2.cvtColor(frame, cv2.COLOR_BGR2GRAY)\r\n",
    "        \r\n",
    "        faces = face_cascade.detectMultiScale(gray, 1.3, 5)\r\n",
    "        try :\r\n",
    "            for (x,y,wf,hf) in faces:\r\n",
    "                cy, cx = y + (hf//2), x + (wf//2)\r\n",
    "                max_len = max(hf,wf) + 70\r\n",
    "\r\n",
    "                if (x - max_len) <= 0 or (x + max_len) >= xv or (y - max_len) <= 0 or (y + max_len) >= yv :\r\n",
    "                    continue\r\n",
    "\r\n",
    "                # preprocessing\r\n",
    "                face_crop = gray[cy-max_len:cy+max_len, cx-max_len:cx+max_len]\r\n",
    "                print(face_crop)\r\n",
    "                face_crop = cv2.resize(face_crop, (250,250))\r\n",
    "                print(data_slice[0])\r\n",
    "                face_crop = face_crop[data_slice[0]:data_slice[1], data_slice[2]:data_slice[3]]\r\n",
    "                FaceImage = cv2.resize(face_crop, (w,h))\r\n",
    "                cv2.imshow(\"face\", FaceImage)\r\n",
    "                \r\n",
    "                FaceImage, __, __ = resize_data(np.array([FaceImage]), np.array([FaceImage]))\r\n",
    "\r\n",
    "                # predict image\r\n",
    "                predicted_obj = model.predict(FaceImage)\r\n",
    "                predicted_class = class_name[np.argmax(predicted_obj)]\r\n",
    "                confidence_level = np.round(np.max(predicted_obj), 3)*100.0\r\n",
    "\r\n",
    "                # print(predicted_obj, end=\"\\r\")         \r\n",
    "\r\n",
    "                if confidence_level >= 70 :\r\n",
    "                    # create box on detected face\r\n",
    "                    frame = cv2.rectangle(frame,(cx-max_len,cy-max_len),(cx+max_len,cy+max_len),(0,0,255),1)\r\n",
    "\r\n",
    "                    frame = cv2.rectangle(frame,(x,y),(x+wf,y+hf),(255,0,0),1)\r\n",
    "                    frame = cv2.rectangle(frame,(x,y+hf),(x+wf,y+hf+30),(255,0,0),-1)\r\n",
    "\r\n",
    "                    # print label name on image\r\n",
    "                    cv2.putText(frame,\r\n",
    "                                \"%s (%.1f)\" % (predicted_class, confidence_level),\r\n",
    "                                (x + x//10, y+hf+20),\r\n",
    "                                cv2.FONT_HERSHEY_SIMPLEX,\r\n",
    "                                0.4,\r\n",
    "                                (255, 255, 255), 1)\r\n",
    "            cv2.imshow('frame',frame)\r\n",
    "        except:\r\n",
    "            cv2.imshow('frame',frame)\r\n",
    "        \r\n",
    "        \r\n",
    "        if cv2.waitKey(1) & 0xFF == ord('q'):\r\n",
    "            break\r\n",
    "\r\n",
    "# When everything done, release the capture\r\n",
    "cap.release()\r\n",
    "cv2.destroyAllWindows()\r\n"
   ],
   "outputs": [
    {
     "output_type": "stream",
     "name": "stdout",
     "text": [
      "[[116 116 116 ...  74  75  77]\n",
      " [117 116 116 ...  74  74  77]\n",
      " [118 118 118 ...  73  74  74]\n",
      " ...\n",
      " [ 85  85  81 ...  28  28  29]\n",
      " [ 81  81  80 ...  28  28  28]\n",
      " [ 81  81  79 ...  29  28  29]]\n",
      "[[116 116 116 ...  74  75  77]\n",
      " [117 116 116 ...  74  74  77]\n",
      " [118 118 118 ...  73  74  74]\n",
      " ...\n",
      " [ 85  85  81 ...  28  28  29]\n",
      " [ 81  81  80 ...  28  28  28]\n",
      " [ 81  81  79 ...  29  28  29]]\n",
      "[[141 140 141 ... 177 176 177]\n",
      " [140 140 140 ... 176 175 176]\n",
      " [139 138 139 ... 176 175 176]\n",
      " ...\n",
      " [104 104 105 ... 103 104 102]\n",
      " [104 104 104 ... 101 101  99]\n",
      " [104 104 105 ... 101 103 101]]\n",
      "[[141 140 141 ... 177 176 177]\n",
      " [140 140 140 ... 176 175 176]\n",
      " [139 138 139 ... 176 175 176]\n",
      " ...\n",
      " [104 104 105 ... 103 104 102]\n",
      " [104 104 104 ... 101 101  99]\n",
      " [104 104 105 ... 101 103 101]]\n"
     ]
    }
   ],
   "metadata": {}
  },
  {
   "cell_type": "code",
   "execution_count": null,
   "source": [],
   "outputs": [],
   "metadata": {}
  }
 ],
 "metadata": {
  "kernelspec": {
   "name": "python3",
   "display_name": "Python 3.9.4 64-bit"
  },
  "language_info": {
   "codemirror_mode": {
    "name": "ipython",
    "version": 3
   },
   "file_extension": ".py",
   "mimetype": "text/x-python",
   "name": "python",
   "nbconvert_exporter": "python",
   "pygments_lexer": "ipython3",
   "version": "3.9.4"
  },
  "metadata": {
   "interpreter": {
    "hash": "f0b81c968edce43c7d5a202cfd8ff8a1936271efa5a74ceaab9833e80f2a6b68"
   }
  },
  "interpreter": {
   "hash": "dac80ee27ae31522cc705343f77de28d834d48d4fea5d7070ab939bd5ce98af3"
  }
 },
 "nbformat": 4,
 "nbformat_minor": 4
}